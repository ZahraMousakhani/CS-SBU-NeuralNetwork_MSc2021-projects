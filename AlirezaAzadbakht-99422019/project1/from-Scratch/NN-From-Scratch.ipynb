{
 "cells": [
  {
   "cell_type": "markdown",
   "metadata": {},
   "source": [
    "# Imports"
   ]
  },
  {
   "cell_type": "code",
   "execution_count": 298,
   "metadata": {},
   "outputs": [],
   "source": [
    "import pandas as pd\n",
    "import numpy as np\n",
    "import math\n",
    "\n",
    "from sklearn.linear_model import LinearRegression\n",
    "import torch\n",
    "\n",
    "from sklearn.model_selection import train_test_split\n",
    "from mlxtend.plotting import plot_confusion_matrix\n",
    "from sklearn.metrics import confusion_matrix, classification_report\n",
    "\n",
    "import matplotlib.pyplot as plt\n",
    "\n",
    "def make_report(y_pred , y_true):\n",
    "    print (\"\")\n",
    "    print (\"Classification Report: \")\n",
    "    print (classification_report(y_true, y_pred))\n",
    "    cm = confusion_matrix(y_true, y_pred)\n",
    "    fig, ax = plot_confusion_matrix(conf_mat=cm)\n",
    "    plt.show()"
   ]
  },
  {
   "cell_type": "markdown",
   "metadata": {},
   "source": [
    "# Classes"
   ]
  },
  {
   "cell_type": "markdown",
   "metadata": {},
   "source": [
    "## base class"
   ]
  },
  {
   "cell_type": "code",
   "execution_count": 2,
   "metadata": {},
   "outputs": [],
   "source": [
    "class Layer:\n",
    "    def __init__(self):\n",
    "        self.input = None\n",
    "        self.output = None\n",
    "    \n",
    "    def forward(self, input_data):\n",
    "        pass\n",
    "    \n",
    "    def backward(self, error, learning_rate):\n",
    "        pass\n",
    "    "
   ]
  },
  {
   "cell_type": "markdown",
   "metadata": {},
   "source": [
    "## fully connected layer"
   ]
  },
  {
   "cell_type": "code",
   "execution_count": 3,
   "metadata": {},
   "outputs": [],
   "source": [
    "class Fully_Connected_layer(Layer):\n",
    "    def __init__(self, input_size, output_size):\n",
    "        self.weights = np.random.uniform(low=-0.5, high=0.5, size=(input_size, output_size))\n",
    "        self.bias = np.random.uniform(low=-0.5, high=0.5, size=(1, output_size))\n",
    "        \n",
    "    def forward(self, input_data):\n",
    "        self.input = input_data\n",
    "        self.output = np.dot(self.input, self.weights) + self.bias\n",
    "        return self.output\n",
    "    \n",
    "    def backward(self, error, learning_rate):\n",
    "        gradient = np.dot(self.input.T, error)\n",
    "        self.weights -= learning_rate * gradient\n",
    "        self.bias -= learning_rate * error\n",
    "        return np.dot(error, self.weights.T)"
   ]
  },
  {
   "cell_type": "markdown",
   "metadata": {},
   "source": [
    "## activation layer"
   ]
  },
  {
   "cell_type": "code",
   "execution_count": 4,
   "metadata": {},
   "outputs": [],
   "source": [
    "class Activation_Layer(Layer):\n",
    "    def __init__(self, function, d_function):\n",
    "        self.activation = function\n",
    "        self.d_activation = d_function\n",
    "    \n",
    "    def forward(self, input_data):\n",
    "        self.input = input_data\n",
    "        self.output = self.activation(self.input)\n",
    "        return self.output\n",
    "    \n",
    "    def backward(self, error, learning_rate):\n",
    "        return self.d_activation(self.input) * error"
   ]
  },
  {
   "cell_type": "markdown",
   "metadata": {},
   "source": [
    "## some activation functions"
   ]
  },
  {
   "cell_type": "code",
   "execution_count": 279,
   "metadata": {},
   "outputs": [],
   "source": [
    "def relu(x):\n",
    "    return x * (x > 0)\n",
    "\n",
    "def d_relu(x):\n",
    "    return (x > 0) * 1\n",
    "\n",
    "def sign(x):\n",
    "    return np.sign(x)\n",
    "\n",
    "def d_sign(x):\n",
    "    return np.ones(x.shape)\n",
    "\n",
    "def tanh(x):\n",
    "    return np.tanh(x);\n",
    "\n",
    "def d_tanh(x):\n",
    "    return 1-np.tanh(x)**2;\n",
    "\n",
    "def softmax(x):\n",
    "    expX = np.exp(x)\n",
    "    return expX / expX.sum()\n",
    "\n",
    "def d_softmax(x):\n",
    "    temp = softmax(x)\n",
    "    return temp *(1-temp)\n",
    "\n",
    "def sigmoid(x):\n",
    "    return 1.0/(1.0+np.exp(-x))\n",
    "\n",
    "    \n",
    "def d_sigmoid(x):\n",
    "    temp = sigmoid(x)\n",
    "    return temp*(1.0-temp)\n",
    "\n",
    "\n",
    "def one_hot_encoding(idx, output_dim):\n",
    "    x = np.zeros(output_dim, dtype=np.int)\n",
    "    x[idx] = 1\n",
    "    return x"
   ]
  },
  {
   "cell_type": "markdown",
   "metadata": {},
   "source": [
    "## some loss functions"
   ]
  },
  {
   "cell_type": "code",
   "execution_count": 281,
   "metadata": {},
   "outputs": [],
   "source": [
    "def mse(true, pred):\n",
    "    return np.mean(np.power(true-pred, 2))\n",
    "\n",
    "def d_mse(true, pred):\n",
    "    return 2*(pred-true)/true.size\n",
    "\n",
    "def cross_entropy(actual, predicted):\n",
    "    actual = one_hot_encoding(actual, 6)\n",
    "    predicted = predicted[0]\n",
    "#     print(actual)\n",
    "#     print(predicted)\n",
    "    sum_score = 0.0\n",
    "    for i in range(actual.shape[0]):\n",
    "        sum_score += actual[i] * math.log(1e-15 + predicted[i])\n",
    "    mean_sum_score = 1.0 / len(actual) * sum_score\n",
    "    return -mean_sum_score\n",
    "\n",
    "def d_cross_entropy(actual, predicted):\n",
    "    actual = one_hot_encoding(actual, 6)\n",
    "    predicted = predicted[0]\n",
    "    return predicted - actual"
   ]
  },
  {
   "cell_type": "markdown",
   "metadata": {},
   "source": [
    "## Network class"
   ]
  },
  {
   "cell_type": "code",
   "execution_count": 271,
   "metadata": {},
   "outputs": [],
   "source": [
    "class Network:\n",
    "    def __init__(self):\n",
    "        self.layers = []\n",
    "        self.loss = None\n",
    "        self.d_loss = None\n",
    "    \n",
    "    def set_loss_function(self, function, d_function):\n",
    "        self.loss = function\n",
    "        self.d_loss = d_function\n",
    "        \n",
    "    def add_layer(self, layer):\n",
    "        self.layers.append(layer)\n",
    "        \n",
    "    def fit(self, x, y, epoch, learning_rate):\n",
    "        errors = []\n",
    "        for i in range(epoch):\n",
    "            error = 0 \n",
    "            for j in range(len(x)):\n",
    "                output = x[j:j+1]\n",
    "                for layer in self.layers:\n",
    "#                     print(layer)\n",
    "                    output = layer.forward(output)\n",
    "                error += self.loss(y[j], output)\n",
    "#                 print(error)\n",
    "                d_error = self.d_loss(y[j], output)\n",
    "                for layer in reversed(self.layers):\n",
    "                    d_error = layer.backward(d_error, learning_rate)\n",
    "            if i%100==0:\n",
    "                print(\"epoch {} Done: error = {}\".format(i+1,f\"{(error/len(x)):,}\"  ))\n",
    "            errors.append(error/len(x))\n",
    "        return errors\n",
    "                \n",
    "    def predict(self, x):\n",
    "        result = []\n",
    "        for i in range(len(x)):\n",
    "            output = x[i:i+1]\n",
    "            for layer in self.layers:\n",
    "                output = layer.forward(output)\n",
    "            result.append(output)\n",
    "        return result\n",
    "    "
   ]
  },
  {
   "cell_type": "markdown",
   "metadata": {},
   "source": [
    "# Test Regression"
   ]
  },
  {
   "cell_type": "code",
   "execution_count": 8,
   "metadata": {
    "collapsed": true,
    "jupyter": {
     "outputs_hidden": true,
     "source_hidden": true
    }
   },
   "outputs": [
    {
     "name": "stdout",
     "output_type": "stream",
     "text": [
      "data shape: (3526, 16)\n"
     ]
    },
    {
     "data": {
      "text/html": [
       "<div>\n",
       "<style scoped>\n",
       "    .dataframe tbody tr th:only-of-type {\n",
       "        vertical-align: middle;\n",
       "    }\n",
       "\n",
       "    .dataframe tbody tr th {\n",
       "        vertical-align: top;\n",
       "    }\n",
       "\n",
       "    .dataframe thead th {\n",
       "        text-align: right;\n",
       "    }\n",
       "</style>\n",
       "<table border=\"1\" class=\"dataframe\">\n",
       "  <thead>\n",
       "    <tr style=\"text-align: right;\">\n",
       "      <th></th>\n",
       "      <th>0</th>\n",
       "      <th>1</th>\n",
       "      <th>2</th>\n",
       "      <th>3</th>\n",
       "      <th>4</th>\n",
       "      <th>5</th>\n",
       "      <th>6</th>\n",
       "      <th>7</th>\n",
       "      <th>8</th>\n",
       "      <th>9</th>\n",
       "      <th>10</th>\n",
       "      <th>11</th>\n",
       "      <th>12</th>\n",
       "      <th>13</th>\n",
       "      <th>14</th>\n",
       "      <th>label</th>\n",
       "    </tr>\n",
       "  </thead>\n",
       "  <tbody>\n",
       "    <tr>\n",
       "      <th>0</th>\n",
       "      <td>13.875714</td>\n",
       "      <td>15.846035</td>\n",
       "      <td>17.504397</td>\n",
       "      <td>44.633112</td>\n",
       "      <td>35.604307</td>\n",
       "      <td>46.238290</td>\n",
       "      <td>21.172622</td>\n",
       "      <td>63.202122</td>\n",
       "      <td>35.864571</td>\n",
       "      <td>21.311221</td>\n",
       "      <td>1.543828</td>\n",
       "      <td>7.145689</td>\n",
       "      <td>14.406381</td>\n",
       "      <td>16.538581</td>\n",
       "      <td>13.089846</td>\n",
       "      <td>106145.638002</td>\n",
       "    </tr>\n",
       "    <tr>\n",
       "      <th>1</th>\n",
       "      <td>17.650738</td>\n",
       "      <td>24.824824</td>\n",
       "      <td>27.635406</td>\n",
       "      <td>41.117084</td>\n",
       "      <td>42.592513</td>\n",
       "      <td>29.249432</td>\n",
       "      <td>46.661309</td>\n",
       "      <td>32.507310</td>\n",
       "      <td>22.775707</td>\n",
       "      <td>16.793246</td>\n",
       "      <td>1.630457</td>\n",
       "      <td>8.571680</td>\n",
       "      <td>12.071435</td>\n",
       "      <td>14.202441</td>\n",
       "      <td>15.135194</td>\n",
       "      <td>68257.394081</td>\n",
       "    </tr>\n",
       "    <tr>\n",
       "      <th>2</th>\n",
       "      <td>9.594263</td>\n",
       "      <td>26.784439</td>\n",
       "      <td>26.817986</td>\n",
       "      <td>38.882851</td>\n",
       "      <td>18.216575</td>\n",
       "      <td>32.188432</td>\n",
       "      <td>48.094099</td>\n",
       "      <td>43.649546</td>\n",
       "      <td>34.616287</td>\n",
       "      <td>23.528802</td>\n",
       "      <td>1.858223</td>\n",
       "      <td>7.323392</td>\n",
       "      <td>17.034133</td>\n",
       "      <td>13.515795</td>\n",
       "      <td>15.345748</td>\n",
       "      <td>74076.862566</td>\n",
       "    </tr>\n",
       "    <tr>\n",
       "      <th>3</th>\n",
       "      <td>18.164249</td>\n",
       "      <td>35.772034</td>\n",
       "      <td>21.047181</td>\n",
       "      <td>46.417855</td>\n",
       "      <td>33.656794</td>\n",
       "      <td>33.089732</td>\n",
       "      <td>27.491772</td>\n",
       "      <td>30.819831</td>\n",
       "      <td>33.437940</td>\n",
       "      <td>11.302883</td>\n",
       "      <td>1.319192</td>\n",
       "      <td>6.058686</td>\n",
       "      <td>6.904474</td>\n",
       "      <td>13.561897</td>\n",
       "      <td>19.088641</td>\n",
       "      <td>53895.565816</td>\n",
       "    </tr>\n",
       "    <tr>\n",
       "      <th>4</th>\n",
       "      <td>21.748969</td>\n",
       "      <td>21.161214</td>\n",
       "      <td>20.889309</td>\n",
       "      <td>26.759598</td>\n",
       "      <td>39.751001</td>\n",
       "      <td>35.032459</td>\n",
       "      <td>53.224752</td>\n",
       "      <td>47.362440</td>\n",
       "      <td>30.087273</td>\n",
       "      <td>16.128714</td>\n",
       "      <td>1.548673</td>\n",
       "      <td>4.920108</td>\n",
       "      <td>16.190713</td>\n",
       "      <td>19.762129</td>\n",
       "      <td>15.722387</td>\n",
       "      <td>91622.435726</td>\n",
       "    </tr>\n",
       "  </tbody>\n",
       "</table>\n",
       "</div>"
      ],
      "text/plain": [
       "           0          1          2          3          4          5  \\\n",
       "0  13.875714  15.846035  17.504397  44.633112  35.604307  46.238290   \n",
       "1  17.650738  24.824824  27.635406  41.117084  42.592513  29.249432   \n",
       "2   9.594263  26.784439  26.817986  38.882851  18.216575  32.188432   \n",
       "3  18.164249  35.772034  21.047181  46.417855  33.656794  33.089732   \n",
       "4  21.748969  21.161214  20.889309  26.759598  39.751001  35.032459   \n",
       "\n",
       "           6          7          8          9        10        11         12  \\\n",
       "0  21.172622  63.202122  35.864571  21.311221  1.543828  7.145689  14.406381   \n",
       "1  46.661309  32.507310  22.775707  16.793246  1.630457  8.571680  12.071435   \n",
       "2  48.094099  43.649546  34.616287  23.528802  1.858223  7.323392  17.034133   \n",
       "3  27.491772  30.819831  33.437940  11.302883  1.319192  6.058686   6.904474   \n",
       "4  53.224752  47.362440  30.087273  16.128714  1.548673  4.920108  16.190713   \n",
       "\n",
       "          13         14          label  \n",
       "0  16.538581  13.089846  106145.638002  \n",
       "1  14.202441  15.135194   68257.394081  \n",
       "2  13.515795  15.345748   74076.862566  \n",
       "3  13.561897  19.088641   53895.565816  \n",
       "4  19.762129  15.722387   91622.435726  "
      ]
     },
     "metadata": {},
     "output_type": "display_data"
    },
    {
     "name": "stdout",
     "output_type": "stream",
     "text": [
      "X_train shape: (2468, 15) y_train shape: (2468,) X_test shape: (1058, 15) y_test shape: (1058,)\n"
     ]
    }
   ],
   "source": [
    "x = pd.read_csv('datasets/University/NN-HW1/regression/x.csv')\n",
    "y = pd.read_csv('datasets/University/NN-HW1/regression/y.csv')\n",
    "data = x.copy()\n",
    "data['label'] = y.values\n",
    "print('data shape:',data.shape)\n",
    "display(data.head(5))\n",
    "X_train, X_test, y_train, y_test = train_test_split(data.drop(['label'], axis=1), data['label'], test_size=0.30, random_state=42)\n",
    "print('X_train shape:', X_train.shape,'y_train shape:', y_train.shape, 'X_test shape:', X_test.shape,'y_test shape:', y_test.shape)\n",
    "input_shape = X_train.shape[1]"
   ]
  },
  {
   "cell_type": "code",
   "execution_count": 46,
   "metadata": {
    "collapsed": true,
    "jupyter": {
     "outputs_hidden": true,
     "source_hidden": true
    }
   },
   "outputs": [
    {
     "data": {
      "text/html": [
       "<div>\n",
       "<style scoped>\n",
       "    .dataframe tbody tr th:only-of-type {\n",
       "        vertical-align: middle;\n",
       "    }\n",
       "\n",
       "    .dataframe tbody tr th {\n",
       "        vertical-align: top;\n",
       "    }\n",
       "\n",
       "    .dataframe thead th {\n",
       "        text-align: right;\n",
       "    }\n",
       "</style>\n",
       "<table border=\"1\" class=\"dataframe\">\n",
       "  <thead>\n",
       "    <tr style=\"text-align: right;\">\n",
       "      <th></th>\n",
       "      <th>0</th>\n",
       "      <th>1</th>\n",
       "      <th>2</th>\n",
       "      <th>3</th>\n",
       "      <th>4</th>\n",
       "      <th>5</th>\n",
       "      <th>6</th>\n",
       "      <th>7</th>\n",
       "      <th>8</th>\n",
       "      <th>9</th>\n",
       "      <th>10</th>\n",
       "      <th>11</th>\n",
       "      <th>12</th>\n",
       "      <th>13</th>\n",
       "      <th>14</th>\n",
       "      <th>label</th>\n",
       "    </tr>\n",
       "  </thead>\n",
       "  <tbody>\n",
       "    <tr>\n",
       "      <th>count</th>\n",
       "      <td>3526.000000</td>\n",
       "      <td>3526.000000</td>\n",
       "      <td>3526.000000</td>\n",
       "      <td>3526.000000</td>\n",
       "      <td>3526.000000</td>\n",
       "      <td>3526.000000</td>\n",
       "      <td>3526.000000</td>\n",
       "      <td>3526.000000</td>\n",
       "      <td>3526.000000</td>\n",
       "      <td>3526.000000</td>\n",
       "      <td>3526.000000</td>\n",
       "      <td>3526.000000</td>\n",
       "      <td>3526.000000</td>\n",
       "      <td>3526.000000</td>\n",
       "      <td>3526.000000</td>\n",
       "      <td>3526.000000</td>\n",
       "    </tr>\n",
       "    <tr>\n",
       "      <th>mean</th>\n",
       "      <td>21.150986</td>\n",
       "      <td>26.269388</td>\n",
       "      <td>20.663295</td>\n",
       "      <td>42.051490</td>\n",
       "      <td>30.629828</td>\n",
       "      <td>35.357367</td>\n",
       "      <td>46.519170</td>\n",
       "      <td>46.713005</td>\n",
       "      <td>28.660267</td>\n",
       "      <td>17.090980</td>\n",
       "      <td>1.610985</td>\n",
       "      <td>6.669260</td>\n",
       "      <td>13.273067</td>\n",
       "      <td>16.876746</td>\n",
       "      <td>17.877189</td>\n",
       "      <td>83384.082253</td>\n",
       "    </tr>\n",
       "    <tr>\n",
       "      <th>std</th>\n",
       "      <td>6.297671</td>\n",
       "      <td>7.472353</td>\n",
       "      <td>6.203000</td>\n",
       "      <td>9.077615</td>\n",
       "      <td>8.035404</td>\n",
       "      <td>11.424594</td>\n",
       "      <td>13.293552</td>\n",
       "      <td>12.987955</td>\n",
       "      <td>7.859213</td>\n",
       "      <td>5.253150</td>\n",
       "      <td>0.366673</td>\n",
       "      <td>1.842262</td>\n",
       "      <td>3.560154</td>\n",
       "      <td>4.600573</td>\n",
       "      <td>4.946224</td>\n",
       "      <td>18044.477016</td>\n",
       "    </tr>\n",
       "    <tr>\n",
       "      <th>min</th>\n",
       "      <td>0.000000</td>\n",
       "      <td>0.000000</td>\n",
       "      <td>0.000000</td>\n",
       "      <td>0.000000</td>\n",
       "      <td>0.000000</td>\n",
       "      <td>0.000000</td>\n",
       "      <td>0.000000</td>\n",
       "      <td>0.000000</td>\n",
       "      <td>0.000000</td>\n",
       "      <td>0.000000</td>\n",
       "      <td>0.000000</td>\n",
       "      <td>0.000000</td>\n",
       "      <td>0.000000</td>\n",
       "      <td>0.000000</td>\n",
       "      <td>0.000000</td>\n",
       "      <td>20000.000000</td>\n",
       "    </tr>\n",
       "    <tr>\n",
       "      <th>25%</th>\n",
       "      <td>16.912058</td>\n",
       "      <td>21.363404</td>\n",
       "      <td>16.549961</td>\n",
       "      <td>36.069811</td>\n",
       "      <td>25.149279</td>\n",
       "      <td>27.726137</td>\n",
       "      <td>37.734280</td>\n",
       "      <td>37.799401</td>\n",
       "      <td>23.351452</td>\n",
       "      <td>13.439396</td>\n",
       "      <td>1.363554</td>\n",
       "      <td>5.450294</td>\n",
       "      <td>10.860404</td>\n",
       "      <td>13.957419</td>\n",
       "      <td>14.517355</td>\n",
       "      <td>70997.640324</td>\n",
       "    </tr>\n",
       "    <tr>\n",
       "      <th>50%</th>\n",
       "      <td>21.043703</td>\n",
       "      <td>26.226728</td>\n",
       "      <td>20.618775</td>\n",
       "      <td>42.037565</td>\n",
       "      <td>30.775279</td>\n",
       "      <td>35.355776</td>\n",
       "      <td>46.640402</td>\n",
       "      <td>46.703582</td>\n",
       "      <td>28.641639</td>\n",
       "      <td>17.045697</td>\n",
       "      <td>1.618686</td>\n",
       "      <td>6.690342</td>\n",
       "      <td>13.294823</td>\n",
       "      <td>16.905427</td>\n",
       "      <td>17.916318</td>\n",
       "      <td>83192.332223</td>\n",
       "    </tr>\n",
       "    <tr>\n",
       "      <th>75%</th>\n",
       "      <td>25.423915</td>\n",
       "      <td>31.281689</td>\n",
       "      <td>24.833170</td>\n",
       "      <td>48.130982</td>\n",
       "      <td>36.086663</td>\n",
       "      <td>42.914989</td>\n",
       "      <td>55.024320</td>\n",
       "      <td>55.776646</td>\n",
       "      <td>33.996587</td>\n",
       "      <td>20.647079</td>\n",
       "      <td>1.860870</td>\n",
       "      <td>7.919667</td>\n",
       "      <td>15.700653</td>\n",
       "      <td>19.885114</td>\n",
       "      <td>21.335927</td>\n",
       "      <td>95431.851031</td>\n",
       "    </tr>\n",
       "    <tr>\n",
       "      <th>max</th>\n",
       "      <td>44.000000</td>\n",
       "      <td>54.000000</td>\n",
       "      <td>43.000000</td>\n",
       "      <td>72.000000</td>\n",
       "      <td>58.000000</td>\n",
       "      <td>79.000000</td>\n",
       "      <td>97.000000</td>\n",
       "      <td>88.000000</td>\n",
       "      <td>55.000000</td>\n",
       "      <td>36.000000</td>\n",
       "      <td>3.000000</td>\n",
       "      <td>13.000000</td>\n",
       "      <td>25.000000</td>\n",
       "      <td>32.000000</td>\n",
       "      <td>37.000000</td>\n",
       "      <td>150000.000000</td>\n",
       "    </tr>\n",
       "  </tbody>\n",
       "</table>\n",
       "</div>"
      ],
      "text/plain": [
       "                 0            1            2            3            4  \\\n",
       "count  3526.000000  3526.000000  3526.000000  3526.000000  3526.000000   \n",
       "mean     21.150986    26.269388    20.663295    42.051490    30.629828   \n",
       "std       6.297671     7.472353     6.203000     9.077615     8.035404   \n",
       "min       0.000000     0.000000     0.000000     0.000000     0.000000   \n",
       "25%      16.912058    21.363404    16.549961    36.069811    25.149279   \n",
       "50%      21.043703    26.226728    20.618775    42.037565    30.775279   \n",
       "75%      25.423915    31.281689    24.833170    48.130982    36.086663   \n",
       "max      44.000000    54.000000    43.000000    72.000000    58.000000   \n",
       "\n",
       "                 5            6            7            8            9  \\\n",
       "count  3526.000000  3526.000000  3526.000000  3526.000000  3526.000000   \n",
       "mean     35.357367    46.519170    46.713005    28.660267    17.090980   \n",
       "std      11.424594    13.293552    12.987955     7.859213     5.253150   \n",
       "min       0.000000     0.000000     0.000000     0.000000     0.000000   \n",
       "25%      27.726137    37.734280    37.799401    23.351452    13.439396   \n",
       "50%      35.355776    46.640402    46.703582    28.641639    17.045697   \n",
       "75%      42.914989    55.024320    55.776646    33.996587    20.647079   \n",
       "max      79.000000    97.000000    88.000000    55.000000    36.000000   \n",
       "\n",
       "                10           11           12           13           14  \\\n",
       "count  3526.000000  3526.000000  3526.000000  3526.000000  3526.000000   \n",
       "mean      1.610985     6.669260    13.273067    16.876746    17.877189   \n",
       "std       0.366673     1.842262     3.560154     4.600573     4.946224   \n",
       "min       0.000000     0.000000     0.000000     0.000000     0.000000   \n",
       "25%       1.363554     5.450294    10.860404    13.957419    14.517355   \n",
       "50%       1.618686     6.690342    13.294823    16.905427    17.916318   \n",
       "75%       1.860870     7.919667    15.700653    19.885114    21.335927   \n",
       "max       3.000000    13.000000    25.000000    32.000000    37.000000   \n",
       "\n",
       "               label  \n",
       "count    3526.000000  \n",
       "mean    83384.082253  \n",
       "std     18044.477016  \n",
       "min     20000.000000  \n",
       "25%     70997.640324  \n",
       "50%     83192.332223  \n",
       "75%     95431.851031  \n",
       "max    150000.000000  "
      ]
     },
     "execution_count": 46,
     "metadata": {},
     "output_type": "execute_result"
    }
   ],
   "source": [
    "data.describe()"
   ]
  },
  {
   "cell_type": "markdown",
   "metadata": {},
   "source": [
    "### simple regression as baseline model"
   ]
  },
  {
   "cell_type": "code",
   "execution_count": 44,
   "metadata": {
    "collapsed": true,
    "jupyter": {
     "outputs_hidden": true,
     "source_hidden": true
    }
   },
   "outputs": [
    {
     "name": "stdout",
     "output_type": "stream",
     "text": [
      "Test Error :10,081,303.43779853\n"
     ]
    }
   ],
   "source": [
    "reg = LinearRegression()\n",
    "reg.fit(X_train, y_train)\n",
    "test_pred = reg.predict(X_test)\n",
    "print(f\"Test Error :{mse(y_test, test_pred):,}\" )"
   ]
  },
  {
   "cell_type": "markdown",
   "metadata": {},
   "source": [
    "### perceptron"
   ]
  },
  {
   "cell_type": "code",
   "execution_count": 45,
   "metadata": {
    "collapsed": true,
    "jupyter": {
     "outputs_hidden": true,
     "source_hidden": true
    }
   },
   "outputs": [
    {
     "name": "stdout",
     "output_type": "stream",
     "text": [
      "epoch 1 Done: error = 159,608,477.344188\n",
      "epoch 101 Done: error = 97,667,442.12614787\n",
      "epoch 201 Done: error = 82,215,402.92359369\n",
      "epoch 301 Done: error = 70,032,948.99606879\n",
      "epoch 401 Done: error = 60,429,032.55604792\n",
      "epoch 501 Done: error = 52,858,257.865290985\n",
      "epoch 601 Done: error = 46,890,476.23677116\n",
      "epoch 701 Done: error = 42,186,513.67561845\n",
      "epoch 801 Done: error = 38,478,935.038455814\n",
      "epoch 901 Done: error = 35,556,873.48519621\n",
      "epoch 1001 Done: error = 33,254,067.67060308\n",
      "epoch 1101 Done: error = 31,439,428.48381375\n",
      "epoch 1201 Done: error = 30,009,600.493690953\n",
      "epoch 1301 Done: error = 28,883,096.33942567\n",
      "epoch 1401 Done: error = 27,995,671.47959243\n",
      "epoch 1501 Done: error = 27,296,677.032805532\n",
      "epoch 1601 Done: error = 26,746,183.89544166\n",
      "epoch 1701 Done: error = 26,312,715.049906272\n",
      "epoch 1801 Done: error = 25,971,457.459563654\n",
      "epoch 1901 Done: error = 25,702,852.13835134\n"
     ]
    },
    {
     "data": {
      "image/png": "[encoded data removed]",
      "text/plain": [
       "<Figure size 432x288 with 1 Axes>"
      ]
     },
     "metadata": {
      "needs_background": "light"
     },
     "output_type": "display_data"
    },
    {
     "name": "stdout",
     "output_type": "stream",
     "text": [
      "Test Error :41,863,718.3524295\n",
      "Wall time: 2min 49s\n"
     ]
    }
   ],
   "source": [
    "%%time\n",
    "model = Network()\n",
    "\n",
    "model.add_layer(Fully_Connected_layer(input_shape, 1))\n",
    "\n",
    "model.set_loss_function(mse, d_mse)\n",
    "errs = model.fit(X_train.values.copy(), y_train.values.copy(), epoch=2000, learning_rate=0.00005)\n",
    "plt.plot(errs)\n",
    "plt.show()\n",
    "pred = model.predict(X_test.values.copy())\n",
    "r = []\n",
    "for i in pred:\n",
    "    r.append(i[0][0])\n",
    "print(f\"Test Error :{mse(y_test, r):,}\" )"
   ]
  },
  {
   "cell_type": "markdown",
   "metadata": {},
   "source": [
    "### MLP"
   ]
  },
  {
   "cell_type": "code",
   "execution_count": 68,
   "metadata": {
    "collapsed": true,
    "jupyter": {
     "outputs_hidden": true,
     "source_hidden": true
    }
   },
   "outputs": [
    {
     "name": "stdout",
     "output_type": "stream",
     "text": [
      "epoch 1 Done: error = 358,760,516.69497234\n",
      "epoch 101 Done: error = 331,319,038.95148253\n",
      "epoch 201 Done: error = 331,319,038.95148253\n",
      "epoch 301 Done: error = 331,319,038.95148253\n",
      "epoch 401 Done: error = 331,319,038.95148253\n"
     ]
    },
    {
     "data": {
      "image/png": "[encoded data removed]",
      "text/plain": [
       "<Figure size 432x288 with 1 Axes>"
      ]
     },
     "metadata": {
      "needs_background": "light"
     },
     "output_type": "display_data"
    },
    {
     "name": "stdout",
     "output_type": "stream",
     "text": [
      "Test Error :336,259,507.9958309\n",
      "Wall time: 2min 3s\n"
     ]
    }
   ],
   "source": [
    "%%time\n",
    "model = Network()\n",
    "\n",
    "model.add_layer(Fully_Connected_layer(input_shape, 100))\n",
    "model.add_layer(Activation_Layer(relu, d_relu))\n",
    "model.add_layer(Fully_Connected_layer(100, 50))\n",
    "model.add_layer(Activation_Layer(tanh, d_tanh))\n",
    "model.add_layer(Fully_Connected_layer(50,1))\n",
    "\n",
    "model.set_loss_function(mse, d_mse)\n",
    "errs = model.fit(X_train.values.copy(), y_train.values.copy(), epoch=500 , learning_rate=0.0005)\n",
    "plt.plot(errs)\n",
    "plt.show()\n",
    "pred = model.predict(X_test.values.copy())\n",
    "r = []\n",
    "for i in pred:\n",
    "    r.append(i[0][0])\n",
    "print(f\"Test Error :{mse(y_test, r):,}\" )"
   ]
  },
  {
   "cell_type": "markdown",
   "metadata": {},
   "source": [
    "### PyTorch: Perceptron"
   ]
  },
  {
   "cell_type": "code",
   "execution_count": 90,
   "metadata": {},
   "outputs": [],
   "source": [
    "X_train_tensor = torch.tensor(X_train.values)\n",
    "y_train_tensor = torch.tensor(y_train.values)\n",
    "X_test_tensor = torch.tensor(X_test.values)\n",
    "y_test_tensor = torch.tensor(y_test.values)"
   ]
  },
  {
   "cell_type": "code",
   "execution_count": 86,
   "metadata": {
    "jupyter": {
     "source_hidden": true
    }
   },
   "outputs": [],
   "source": [
    "class Perceptron(torch.nn.Module):\n",
    "    def __init__(self, input_size):\n",
    "        super(Perceptron, self).__init__()\n",
    "        self.input_size = input_size\n",
    "        self.layer1 = torch.nn.Linear(self.input_size,1)\n",
    "        \n",
    "    def forward(self, x):\n",
    "        output = self.layer1(x)\n",
    "        return output"
   ]
  },
  {
   "cell_type": "code",
   "execution_count": 89,
   "metadata": {
    "jupyter": {
     "source_hidden": true
    }
   },
   "outputs": [],
   "source": [
    "model = Perceptron(input_size = input_shape)\n",
    "loss_function = torch.nn.MSELoss()\n",
    "optimizer = torch.optim.SGD(model.parameters(), lr = 0.00005)"
   ]
  },
  {
   "cell_type": "code",
   "execution_count": 104,
   "metadata": {
    "collapsed": true,
    "jupyter": {
     "outputs_hidden": true,
     "source_hidden": true
    }
   },
   "outputs": [
    {
     "name": "stdout",
     "output_type": "stream",
     "text": [
      "epoch 0 Done: error = 42237008.0\n",
      "epoch 100 Done: error = 42229488.0\n",
      "epoch 200 Done: error = 42221984.0\n",
      "epoch 300 Done: error = 42214484.0\n",
      "epoch 400 Done: error = 42207004.0\n",
      "epoch 500 Done: error = 42199532.0\n",
      "epoch 600 Done: error = 42192076.0\n",
      "epoch 700 Done: error = 42184636.0\n",
      "epoch 800 Done: error = 42177204.0\n",
      "epoch 900 Done: error = 42169788.0\n",
      "epoch 1000 Done: error = 42162392.0\n",
      "epoch 1100 Done: error = 42155008.0\n",
      "epoch 1200 Done: error = 42147640.0\n",
      "epoch 1300 Done: error = 42140280.0\n",
      "epoch 1400 Done: error = 42132932.0\n",
      "epoch 1500 Done: error = 42125600.0\n",
      "epoch 1600 Done: error = 42118284.0\n",
      "epoch 1700 Done: error = 42110972.0\n",
      "epoch 1800 Done: error = 42103680.0\n",
      "epoch 1900 Done: error = 42096392.0\n"
     ]
    },
    {
     "data": {
      "image/png": "[encoded data removed]",
      "text/plain": [
       "<Figure size 432x288 with 1 Axes>"
      ]
     },
     "metadata": {
      "needs_background": "light"
     },
     "output_type": "display_data"
    },
    {
     "name": "stdout",
     "output_type": "stream",
     "text": [
      "Test Error :44,078,244.0\n",
      "Wall time: 832 ms\n"
     ]
    }
   ],
   "source": [
    "%%time\n",
    "model.train()\n",
    "errs = []\n",
    "epoch = 2000\n",
    "\n",
    "for epoch in range(epoch):    \n",
    "    optimizer.zero_grad() \n",
    "    y_pred = model(X_train_tensor.float())\n",
    "    loss = loss_function(y_pred.squeeze(), y_train_tensor.float())\n",
    "    errs.append(loss.item())\n",
    "    if epoch%100==0:\n",
    "        print('epoch {} Done: error = {}'.format(epoch, loss.item()))\n",
    "    loss.backward()\n",
    "    optimizer.step()\n",
    "\n",
    "plt.plot(errs)\n",
    "plt.show()  \n",
    "model.eval()\n",
    "y_pred = model(X_test_tensor.float())\n",
    "l = loss_function(y_pred.squeeze(), y_test_tensor.float())\n",
    "print(f\"Test Error :{l:,}\" )"
   ]
  },
  {
   "cell_type": "markdown",
   "metadata": {},
   "source": [
    "### PyTorch: MLP"
   ]
  },
  {
   "cell_type": "code",
   "execution_count": 112,
   "metadata": {},
   "outputs": [],
   "source": [
    "class MLP(torch.nn.Module):\n",
    "    def __init__(self, input_size):\n",
    "        super(MLP, self).__init__()\n",
    "        self.input_size = input_size\n",
    "        self.layer1 = torch.nn.Linear(self.input_size, 100)\n",
    "        self.acc1 = torch.nn.ReLU()\n",
    "        self.layer2 = torch.nn.Linear(100, 50)\n",
    "        self.acc2 = torch.nn.Tanh()\n",
    "        self.layer3 = torch.nn.Linear(50, 1)\n",
    "        \n",
    "    def forward(self, x):\n",
    "        output = self.layer1(x)\n",
    "        output = self.acc1(output)\n",
    "        output = self.layer2(output)\n",
    "        output = self.acc2(output)\n",
    "        output = self.layer3(output)\n",
    "        return output"
   ]
  },
  {
   "cell_type": "code",
   "execution_count": 113,
   "metadata": {},
   "outputs": [],
   "source": [
    "model = MLP(input_size = input_shape)\n",
    "loss_function = torch.nn.MSELoss()\n",
    "optimizer = torch.optim.SGD(model.parameters(), lr = 0.0005)"
   ]
  },
  {
   "cell_type": "code",
   "execution_count": 114,
   "metadata": {
    "collapsed": true,
    "jupyter": {
     "outputs_hidden": true
    }
   },
   "outputs": [
    {
     "name": "stdout",
     "output_type": "stream",
     "text": [
      "epoch 0 Done: error = 7250999296.0\n",
      "epoch 100 Done: error = 321483392.0\n",
      "epoch 200 Done: error = 321268224.0\n",
      "epoch 300 Done: error = 321268192.0\n",
      "epoch 400 Done: error = 321268192.0\n"
     ]
    },
    {
     "data": {
      "image/png": "[encoded data removed]",
      "text/plain": [
       "<Figure size 432x288 with 1 Axes>"
      ]
     },
     "metadata": {
      "needs_background": "light"
     },
     "output_type": "display_data"
    },
    {
     "name": "stdout",
     "output_type": "stream",
     "text": [
      "Test Error :335,471,872.0\n",
      "Wall time: 1.86 s\n"
     ]
    }
   ],
   "source": [
    "%%time\n",
    "model.train()\n",
    "errs = []\n",
    "epoch = 500\n",
    "\n",
    "for epoch in range(epoch):    \n",
    "    optimizer.zero_grad() \n",
    "    y_pred = model(X_train_tensor.float())\n",
    "    loss = loss_function(y_pred.squeeze(), y_train_tensor.float())\n",
    "    errs.append(loss.item())\n",
    "    if epoch%100==0:\n",
    "        print('epoch {} Done: error = {}'.format(epoch, loss.item()))\n",
    "    loss.backward()\n",
    "    optimizer.step()\n",
    "\n",
    "plt.plot(errs)\n",
    "plt.show()  \n",
    "model.eval()\n",
    "y_pred = model(X_test_tensor.float())\n",
    "l = loss_function(y_pred.squeeze(), y_test_tensor.float())\n",
    "print(f\"Test Error :{l:,}\" )"
   ]
  },
  {
   "cell_type": "markdown",
   "metadata": {},
   "source": [
    "# Test Classification"
   ]
  },
  {
   "cell_type": "code",
   "execution_count": 118,
   "metadata": {},
   "outputs": [
    {
     "name": "stdout",
     "output_type": "stream",
     "text": [
      "data shape: (9834, 18)\n"
     ]
    },
    {
     "data": {
      "text/html": [
       "<div>\n",
       "<style scoped>\n",
       "    .dataframe tbody tr th:only-of-type {\n",
       "        vertical-align: middle;\n",
       "    }\n",
       "\n",
       "    .dataframe tbody tr th {\n",
       "        vertical-align: top;\n",
       "    }\n",
       "\n",
       "    .dataframe thead th {\n",
       "        text-align: right;\n",
       "    }\n",
       "</style>\n",
       "<table border=\"1\" class=\"dataframe\">\n",
       "  <thead>\n",
       "    <tr style=\"text-align: right;\">\n",
       "      <th></th>\n",
       "      <th>0</th>\n",
       "      <th>1</th>\n",
       "      <th>2</th>\n",
       "      <th>3</th>\n",
       "      <th>4</th>\n",
       "      <th>5</th>\n",
       "      <th>6</th>\n",
       "      <th>7</th>\n",
       "      <th>8</th>\n",
       "      <th>9</th>\n",
       "      <th>10</th>\n",
       "      <th>11</th>\n",
       "      <th>12</th>\n",
       "      <th>13</th>\n",
       "      <th>14</th>\n",
       "      <th>15</th>\n",
       "      <th>16</th>\n",
       "      <th>label</th>\n",
       "    </tr>\n",
       "  </thead>\n",
       "  <tbody>\n",
       "    <tr>\n",
       "      <th>0</th>\n",
       "      <td>81.894656</td>\n",
       "      <td>-67.647796</td>\n",
       "      <td>6.284543</td>\n",
       "      <td>-30.566285</td>\n",
       "      <td>-15.898834</td>\n",
       "      <td>3.840511</td>\n",
       "      <td>76.812480</td>\n",
       "      <td>-318.278049</td>\n",
       "      <td>-16.652295</td>\n",
       "      <td>47.886831</td>\n",
       "      <td>132.790978</td>\n",
       "      <td>13.012476</td>\n",
       "      <td>49.058326</td>\n",
       "      <td>-294.313125</td>\n",
       "      <td>58.858024</td>\n",
       "      <td>42.361804</td>\n",
       "      <td>-89.454799</td>\n",
       "      <td>1</td>\n",
       "    </tr>\n",
       "    <tr>\n",
       "      <th>1</th>\n",
       "      <td>-26.635394</td>\n",
       "      <td>82.968096</td>\n",
       "      <td>90.834092</td>\n",
       "      <td>-70.972767</td>\n",
       "      <td>-38.280643</td>\n",
       "      <td>12.748158</td>\n",
       "      <td>-82.128846</td>\n",
       "      <td>-209.817875</td>\n",
       "      <td>-64.891184</td>\n",
       "      <td>-43.006044</td>\n",
       "      <td>-9.238610</td>\n",
       "      <td>-3.711435</td>\n",
       "      <td>221.750187</td>\n",
       "      <td>-278.088841</td>\n",
       "      <td>80.551063</td>\n",
       "      <td>215.184683</td>\n",
       "      <td>15.349674</td>\n",
       "      <td>0</td>\n",
       "    </tr>\n",
       "    <tr>\n",
       "      <th>2</th>\n",
       "      <td>81.126182</td>\n",
       "      <td>521.179489</td>\n",
       "      <td>-204.213109</td>\n",
       "      <td>31.397725</td>\n",
       "      <td>52.385768</td>\n",
       "      <td>-3.613091</td>\n",
       "      <td>-144.281116</td>\n",
       "      <td>-100.937914</td>\n",
       "      <td>21.468080</td>\n",
       "      <td>22.805075</td>\n",
       "      <td>-65.918313</td>\n",
       "      <td>10.299397</td>\n",
       "      <td>-94.238758</td>\n",
       "      <td>-295.723200</td>\n",
       "      <td>65.897911</td>\n",
       "      <td>126.680189</td>\n",
       "      <td>-30.110383</td>\n",
       "      <td>2</td>\n",
       "    </tr>\n",
       "    <tr>\n",
       "      <th>3</th>\n",
       "      <td>74.706273</td>\n",
       "      <td>44.941183</td>\n",
       "      <td>119.720215</td>\n",
       "      <td>91.617409</td>\n",
       "      <td>-4.650815</td>\n",
       "      <td>-3.129639</td>\n",
       "      <td>-89.113528</td>\n",
       "      <td>226.362838</td>\n",
       "      <td>48.744206</td>\n",
       "      <td>-102.283730</td>\n",
       "      <td>-12.555976</td>\n",
       "      <td>0.380604</td>\n",
       "      <td>57.855131</td>\n",
       "      <td>-134.611445</td>\n",
       "      <td>-55.841913</td>\n",
       "      <td>38.723462</td>\n",
       "      <td>96.204834</td>\n",
       "      <td>2</td>\n",
       "    </tr>\n",
       "    <tr>\n",
       "      <th>4</th>\n",
       "      <td>74.331294</td>\n",
       "      <td>99.509204</td>\n",
       "      <td>18.448661</td>\n",
       "      <td>94.559138</td>\n",
       "      <td>21.079271</td>\n",
       "      <td>-2.226977</td>\n",
       "      <td>-31.596367</td>\n",
       "      <td>281.398872</td>\n",
       "      <td>-57.464879</td>\n",
       "      <td>-89.926860</td>\n",
       "      <td>-2.287027</td>\n",
       "      <td>10.837769</td>\n",
       "      <td>-36.442296</td>\n",
       "      <td>15.274938</td>\n",
       "      <td>90.394032</td>\n",
       "      <td>192.784326</td>\n",
       "      <td>110.922466</td>\n",
       "      <td>2</td>\n",
       "    </tr>\n",
       "  </tbody>\n",
       "</table>\n",
       "</div>"
      ],
      "text/plain": [
       "           0           1           2          3          4          5  \\\n",
       "0  81.894656  -67.647796    6.284543 -30.566285 -15.898834   3.840511   \n",
       "1 -26.635394   82.968096   90.834092 -70.972767 -38.280643  12.748158   \n",
       "2  81.126182  521.179489 -204.213109  31.397725  52.385768  -3.613091   \n",
       "3  74.706273   44.941183  119.720215  91.617409  -4.650815  -3.129639   \n",
       "4  74.331294   99.509204   18.448661  94.559138  21.079271  -2.226977   \n",
       "\n",
       "            6           7          8           9          10         11  \\\n",
       "0   76.812480 -318.278049 -16.652295   47.886831  132.790978  13.012476   \n",
       "1  -82.128846 -209.817875 -64.891184  -43.006044   -9.238610  -3.711435   \n",
       "2 -144.281116 -100.937914  21.468080   22.805075  -65.918313  10.299397   \n",
       "3  -89.113528  226.362838  48.744206 -102.283730  -12.555976   0.380604   \n",
       "4  -31.596367  281.398872 -57.464879  -89.926860   -2.287027  10.837769   \n",
       "\n",
       "           12          13         14          15          16  label  \n",
       "0   49.058326 -294.313125  58.858024   42.361804  -89.454799      1  \n",
       "1  221.750187 -278.088841  80.551063  215.184683   15.349674      0  \n",
       "2  -94.238758 -295.723200  65.897911  126.680189  -30.110383      2  \n",
       "3   57.855131 -134.611445 -55.841913   38.723462   96.204834      2  \n",
       "4  -36.442296   15.274938  90.394032  192.784326  110.922466      2  "
      ]
     },
     "metadata": {},
     "output_type": "display_data"
    },
    {
     "name": "stdout",
     "output_type": "stream",
     "text": [
      "X_train shape: (6883, 17) y_train shape: (6883,) X_test shape: (2951, 17) y_test shape: (2951,)\n"
     ]
    },
    {
     "data": {
      "text/html": [
       "<div>\n",
       "<style scoped>\n",
       "    .dataframe tbody tr th:only-of-type {\n",
       "        vertical-align: middle;\n",
       "    }\n",
       "\n",
       "    .dataframe tbody tr th {\n",
       "        vertical-align: top;\n",
       "    }\n",
       "\n",
       "    .dataframe thead th {\n",
       "        text-align: right;\n",
       "    }\n",
       "</style>\n",
       "<table border=\"1\" class=\"dataframe\">\n",
       "  <thead>\n",
       "    <tr style=\"text-align: right;\">\n",
       "      <th></th>\n",
       "      <th>0</th>\n",
       "      <th>1</th>\n",
       "      <th>2</th>\n",
       "      <th>3</th>\n",
       "      <th>4</th>\n",
       "      <th>5</th>\n",
       "      <th>6</th>\n",
       "      <th>7</th>\n",
       "      <th>8</th>\n",
       "      <th>9</th>\n",
       "      <th>10</th>\n",
       "      <th>11</th>\n",
       "      <th>12</th>\n",
       "      <th>13</th>\n",
       "      <th>14</th>\n",
       "      <th>15</th>\n",
       "      <th>16</th>\n",
       "      <th>label</th>\n",
       "    </tr>\n",
       "  </thead>\n",
       "  <tbody>\n",
       "    <tr>\n",
       "      <th>count</th>\n",
       "      <td>9834.000000</td>\n",
       "      <td>9834.000000</td>\n",
       "      <td>9834.000000</td>\n",
       "      <td>9834.000000</td>\n",
       "      <td>9834.000000</td>\n",
       "      <td>9834.000000</td>\n",
       "      <td>9834.000000</td>\n",
       "      <td>9834.000000</td>\n",
       "      <td>9834.000000</td>\n",
       "      <td>9834.000000</td>\n",
       "      <td>9834.000000</td>\n",
       "      <td>9834.000000</td>\n",
       "      <td>9834.000000</td>\n",
       "      <td>9834.000000</td>\n",
       "      <td>9834.000000</td>\n",
       "      <td>9834.000000</td>\n",
       "      <td>9834.000000</td>\n",
       "      <td>9834.000000</td>\n",
       "    </tr>\n",
       "    <tr>\n",
       "      <th>mean</th>\n",
       "      <td>12.598519</td>\n",
       "      <td>-31.868058</td>\n",
       "      <td>-11.200844</td>\n",
       "      <td>2.001290</td>\n",
       "      <td>-3.182115</td>\n",
       "      <td>0.776716</td>\n",
       "      <td>-10.699886</td>\n",
       "      <td>-16.392297</td>\n",
       "      <td>0.901572</td>\n",
       "      <td>0.913970</td>\n",
       "      <td>-0.298203</td>\n",
       "      <td>-3.252135</td>\n",
       "      <td>-13.640558</td>\n",
       "      <td>-69.938723</td>\n",
       "      <td>38.628288</td>\n",
       "      <td>79.775042</td>\n",
       "      <td>46.101258</td>\n",
       "      <td>1.013118</td>\n",
       "    </tr>\n",
       "    <tr>\n",
       "      <th>std</th>\n",
       "      <td>78.037603</td>\n",
       "      <td>233.346192</td>\n",
       "      <td>66.101646</td>\n",
       "      <td>90.559288</td>\n",
       "      <td>20.250882</td>\n",
       "      <td>5.093424</td>\n",
       "      <td>66.341119</td>\n",
       "      <td>173.466432</td>\n",
       "      <td>52.289486</td>\n",
       "      <td>86.260956</td>\n",
       "      <td>85.646896</td>\n",
       "      <td>21.055764</td>\n",
       "      <td>86.435873</td>\n",
       "      <td>134.467575</td>\n",
       "      <td>85.386577</td>\n",
       "      <td>139.158559</td>\n",
       "      <td>80.339559</td>\n",
       "      <td>0.843090</td>\n",
       "    </tr>\n",
       "    <tr>\n",
       "      <th>min</th>\n",
       "      <td>-280.759462</td>\n",
       "      <td>-936.648861</td>\n",
       "      <td>-254.203305</td>\n",
       "      <td>-374.326608</td>\n",
       "      <td>-81.591956</td>\n",
       "      <td>-21.204738</td>\n",
       "      <td>-266.289534</td>\n",
       "      <td>-550.744104</td>\n",
       "      <td>-226.932380</td>\n",
       "      <td>-332.931091</td>\n",
       "      <td>-316.639082</td>\n",
       "      <td>-100.004146</td>\n",
       "      <td>-282.206598</td>\n",
       "      <td>-582.555754</td>\n",
       "      <td>-304.513767</td>\n",
       "      <td>-471.736155</td>\n",
       "      <td>-325.094344</td>\n",
       "      <td>0.000000</td>\n",
       "    </tr>\n",
       "    <tr>\n",
       "      <th>25%</th>\n",
       "      <td>-36.754516</td>\n",
       "      <td>-183.495065</td>\n",
       "      <td>-56.788009</td>\n",
       "      <td>-58.739913</td>\n",
       "      <td>-16.992748</td>\n",
       "      <td>-2.633037</td>\n",
       "      <td>-54.368437</td>\n",
       "      <td>-137.855535</td>\n",
       "      <td>-33.900598</td>\n",
       "      <td>-57.385719</td>\n",
       "      <td>-57.533124</td>\n",
       "      <td>-16.870177</td>\n",
       "      <td>-73.439709</td>\n",
       "      <td>-160.627838</td>\n",
       "      <td>-18.643765</td>\n",
       "      <td>-14.196203</td>\n",
       "      <td>-6.458848</td>\n",
       "      <td>0.000000</td>\n",
       "    </tr>\n",
       "    <tr>\n",
       "      <th>50%</th>\n",
       "      <td>16.069656</td>\n",
       "      <td>-39.041641</td>\n",
       "      <td>-11.749304</td>\n",
       "      <td>2.753426</td>\n",
       "      <td>-3.177590</td>\n",
       "      <td>0.966234</td>\n",
       "      <td>-7.658362</td>\n",
       "      <td>-36.539169</td>\n",
       "      <td>1.237441</td>\n",
       "      <td>0.177253</td>\n",
       "      <td>0.594642</td>\n",
       "      <td>-3.362324</td>\n",
       "      <td>-19.780897</td>\n",
       "      <td>-70.788748</td>\n",
       "      <td>38.489216</td>\n",
       "      <td>80.739033</td>\n",
       "      <td>46.067194</td>\n",
       "      <td>1.000000</td>\n",
       "    </tr>\n",
       "    <tr>\n",
       "      <th>75%</th>\n",
       "      <td>64.330898</td>\n",
       "      <td>112.528044</td>\n",
       "      <td>33.156582</td>\n",
       "      <td>63.454551</td>\n",
       "      <td>10.725879</td>\n",
       "      <td>4.294718</td>\n",
       "      <td>35.888126</td>\n",
       "      <td>86.653688</td>\n",
       "      <td>36.650346</td>\n",
       "      <td>58.499223</td>\n",
       "      <td>58.400443</td>\n",
       "      <td>10.853788</td>\n",
       "      <td>38.249153</td>\n",
       "      <td>20.060935</td>\n",
       "      <td>96.433484</td>\n",
       "      <td>172.382244</td>\n",
       "      <td>98.492840</td>\n",
       "      <td>2.000000</td>\n",
       "    </tr>\n",
       "    <tr>\n",
       "      <th>max</th>\n",
       "      <td>297.019664</td>\n",
       "      <td>1060.022448</td>\n",
       "      <td>262.823664</td>\n",
       "      <td>342.078363</td>\n",
       "      <td>75.596577</td>\n",
       "      <td>19.346146</td>\n",
       "      <td>267.375109</td>\n",
       "      <td>690.744767</td>\n",
       "      <td>191.621092</td>\n",
       "      <td>325.356490</td>\n",
       "      <td>331.904030</td>\n",
       "      <td>80.394897</td>\n",
       "      <td>408.986388</td>\n",
       "      <td>497.446237</td>\n",
       "      <td>378.248240</td>\n",
       "      <td>691.280911</td>\n",
       "      <td>322.014503</td>\n",
       "      <td>5.000000</td>\n",
       "    </tr>\n",
       "  </tbody>\n",
       "</table>\n",
       "</div>"
      ],
      "text/plain": [
       "                 0            1            2            3            4  \\\n",
       "count  9834.000000  9834.000000  9834.000000  9834.000000  9834.000000   \n",
       "mean     12.598519   -31.868058   -11.200844     2.001290    -3.182115   \n",
       "std      78.037603   233.346192    66.101646    90.559288    20.250882   \n",
       "min    -280.759462  -936.648861  -254.203305  -374.326608   -81.591956   \n",
       "25%     -36.754516  -183.495065   -56.788009   -58.739913   -16.992748   \n",
       "50%      16.069656   -39.041641   -11.749304     2.753426    -3.177590   \n",
       "75%      64.330898   112.528044    33.156582    63.454551    10.725879   \n",
       "max     297.019664  1060.022448   262.823664   342.078363    75.596577   \n",
       "\n",
       "                 5            6            7            8            9  \\\n",
       "count  9834.000000  9834.000000  9834.000000  9834.000000  9834.000000   \n",
       "mean      0.776716   -10.699886   -16.392297     0.901572     0.913970   \n",
       "std       5.093424    66.341119   173.466432    52.289486    86.260956   \n",
       "min     -21.204738  -266.289534  -550.744104  -226.932380  -332.931091   \n",
       "25%      -2.633037   -54.368437  -137.855535   -33.900598   -57.385719   \n",
       "50%       0.966234    -7.658362   -36.539169     1.237441     0.177253   \n",
       "75%       4.294718    35.888126    86.653688    36.650346    58.499223   \n",
       "max      19.346146   267.375109   690.744767   191.621092   325.356490   \n",
       "\n",
       "                10           11           12           13           14  \\\n",
       "count  9834.000000  9834.000000  9834.000000  9834.000000  9834.000000   \n",
       "mean     -0.298203    -3.252135   -13.640558   -69.938723    38.628288   \n",
       "std      85.646896    21.055764    86.435873   134.467575    85.386577   \n",
       "min    -316.639082  -100.004146  -282.206598  -582.555754  -304.513767   \n",
       "25%     -57.533124   -16.870177   -73.439709  -160.627838   -18.643765   \n",
       "50%       0.594642    -3.362324   -19.780897   -70.788748    38.489216   \n",
       "75%      58.400443    10.853788    38.249153    20.060935    96.433484   \n",
       "max     331.904030    80.394897   408.986388   497.446237   378.248240   \n",
       "\n",
       "                15           16        label  \n",
       "count  9834.000000  9834.000000  9834.000000  \n",
       "mean     79.775042    46.101258     1.013118  \n",
       "std     139.158559    80.339559     0.843090  \n",
       "min    -471.736155  -325.094344     0.000000  \n",
       "25%     -14.196203    -6.458848     0.000000  \n",
       "50%      80.739033    46.067194     1.000000  \n",
       "75%     172.382244    98.492840     2.000000  \n",
       "max     691.280911   322.014503     5.000000  "
      ]
     },
     "execution_count": 118,
     "metadata": {},
     "output_type": "execute_result"
    }
   ],
   "source": [
    "x = pd.read_csv('datasets/University/NN-HW1/classification/features.csv')\n",
    "y = pd.read_csv('datasets/University/NN-HW1/classification/labels.csv')\n",
    "data = x.copy()\n",
    "data['label'] = y.values\n",
    "print('data shape:',data.shape)\n",
    "display(data.head(5))\n",
    "X_train, X_test, y_train, y_test = train_test_split(data.drop(['label'], axis=1), data['label'], test_size=0.30, random_state=42)\n",
    "print('X_train shape:', X_train.shape,'y_train shape:', y_train.shape, 'X_test shape:', X_test.shape,'y_test shape:', y_test.shape)\n",
    "input_shape = X_train.shape[1]\n",
    "data.describe()"
   ]
  },
  {
   "cell_type": "markdown",
   "metadata": {},
   "source": [
    "## MLP"
   ]
  },
  {
   "cell_type": "code",
   "execution_count": 301,
   "metadata": {},
   "outputs": [
    {
     "name": "stdout",
     "output_type": "stream",
     "text": [
      "epoch 1 Done: error = 3.2056823072842113\n"
     ]
    },
    {
     "name": "stderr",
     "output_type": "stream",
     "text": [
      "E:\\ProgramData\\lib\\site-packages\\ipykernel_launcher.py:28: RuntimeWarning: overflow encountered in exp\n"
     ]
    },
    {
     "name": "stdout",
     "output_type": "stream",
     "text": [
      "epoch 101 Done: error = 0.5389525911712246\n",
      "epoch 201 Done: error = 0.3067409559849369\n",
      "epoch 301 Done: error = 0.691797898832223\n"
     ]
    },
    {
     "data": {
      "image/png": "[encoded data removed]",
      "text/plain": [
       "<Figure size 432x288 with 1 Axes>"
      ]
     },
     "metadata": {
      "needs_background": "light"
     },
     "output_type": "display_data"
    },
    {
     "name": "stdout",
     "output_type": "stream",
     "text": [
      "\n",
      "Classification Report: \n",
      "              precision    recall  f1-score   support\n",
      "\n",
      "           0       0.82      0.96      0.89       999\n",
      "           1       0.96      0.80      0.87       963\n",
      "           2       0.97      0.95      0.96       973\n",
      "           3       0.00      0.00      0.00         4\n",
      "           4       0.00      0.00      0.00         7\n",
      "           5       0.00      0.00      0.00         5\n",
      "\n",
      "    accuracy                           0.90      2951\n",
      "   macro avg       0.46      0.45      0.45      2951\n",
      "weighted avg       0.91      0.90      0.90      2951\n",
      "\n"
     ]
    },
    {
     "data": {
      "image/png": "[encoded data removed]",
      "text/plain": [
       "<Figure size 432x288 with 1 Axes>"
      ]
     },
     "metadata": {
      "needs_background": "light"
     },
     "output_type": "display_data"
    },
    {
     "name": "stdout",
     "output_type": "stream",
     "text": [
      "Wall time: 2min 53s\n"
     ]
    }
   ],
   "source": [
    "%%time\n",
    "model = Network()\n",
    "\n",
    "model.add_layer(Fully_Connected_layer(input_shape, 10))\n",
    "model.add_layer(Activation_Layer(relu, d_relu))\n",
    "model.add_layer(Fully_Connected_layer(10, 6))\n",
    "model.add_layer(Activation_Layer(sigmoid, d_sigmoid))\n",
    "\n",
    "model.set_loss_function(cross_entropy, d_cross_entropy)\n",
    "\n",
    "errs = model.fit(X_train.values.copy(), y_train.values.copy(), epoch=302 , learning_rate=0.001)\n",
    "plt.plot(errs)\n",
    "plt.show()\n",
    "pred = model.predict(X_test.values.copy())\n",
    "r = []\n",
    "for i in pred:\n",
    "    r.append(i[0].argmax())\n",
    "\n",
    "make_report(r, y_test)"
   ]
  },
  {
   "cell_type": "markdown",
   "metadata": {},
   "source": [
    "## PyTorch: MLP"
   ]
  },
  {
   "cell_type": "code",
   "execution_count": 302,
   "metadata": {},
   "outputs": [],
   "source": [
    "X_train_tensor = torch.tensor(X_train.values)\n",
    "y_train_tensor = torch.tensor(y_train.values)\n",
    "X_test_tensor = torch.tensor(X_test.values)\n",
    "y_test_tensor = torch.tensor(y_test.values)"
   ]
  },
  {
   "cell_type": "code",
   "execution_count": 303,
   "metadata": {},
   "outputs": [],
   "source": [
    "class MLP(torch.nn.Module):\n",
    "    def __init__(self, input_size):\n",
    "        super(MLP, self).__init__()\n",
    "        self.input_size = input_size\n",
    "        self.layer1 = torch.nn.Linear(self.input_size, 10)\n",
    "        self.acc1 = torch.nn.ReLU()\n",
    "        self.layer2 = torch.nn.Linear(10, 6)\n",
    "        self.acc2 = torch.nn.Sigmoid()\n",
    "        \n",
    "    def forward(self, x):\n",
    "        output = self.layer1(x)\n",
    "        output = self.acc1(output)\n",
    "        output = self.layer2(output)\n",
    "        output = self.acc2(output)\n",
    "        return output"
   ]
  },
  {
   "cell_type": "code",
   "execution_count": 304,
   "metadata": {},
   "outputs": [],
   "source": [
    "model = MLP(input_size = input_shape)\n",
    "loss_function = torch.nn.CrossEntropyLoss()\n",
    "optimizer = torch.optim.SGD(model.parameters(), lr = 0.001)"
   ]
  },
  {
   "cell_type": "code",
   "execution_count": 336,
   "metadata": {},
   "outputs": [
    {
     "name": "stdout",
     "output_type": "stream",
     "text": [
      "epoch 0 Done: error = 1.3287416696548462\n",
      "epoch 100 Done: error = 1.3227243423461914\n",
      "epoch 200 Done: error = 1.3168091773986816\n",
      "epoch 300 Done: error = 1.3109662532806396\n",
      "epoch 400 Done: error = 1.3053051233291626\n",
      "epoch 500 Done: error = 1.299782395362854\n",
      "epoch 600 Done: error = 1.2940760850906372\n",
      "epoch 700 Done: error = 1.287719488143921\n",
      "epoch 800 Done: error = 1.2806074619293213\n",
      "epoch 900 Done: error = 1.272698163986206\n",
      "epoch 1000 Done: error = 1.2631027698516846\n",
      "epoch 1100 Done: error = 1.2574198246002197\n",
      "epoch 1200 Done: error = 1.2529687881469727\n",
      "epoch 1300 Done: error = 1.2488903999328613\n",
      "epoch 1400 Done: error = 1.2452478408813477\n",
      "epoch 1500 Done: error = 1.2419871091842651\n",
      "epoch 1600 Done: error = 1.2391176223754883\n",
      "epoch 1700 Done: error = 1.2365611791610718\n",
      "epoch 1800 Done: error = 1.2341268062591553\n",
      "epoch 1900 Done: error = 1.2317076921463013\n",
      "epoch 2000 Done: error = 1.2293154001235962\n",
      "epoch 2100 Done: error = 1.2270773649215698\n",
      "epoch 2200 Done: error = 1.225032091140747\n",
      "epoch 2300 Done: error = 1.2231680154800415\n",
      "epoch 2400 Done: error = 1.2214329242706299\n",
      "epoch 2500 Done: error = 1.2196816205978394\n",
      "epoch 2600 Done: error = 1.2179113626480103\n",
      "epoch 2700 Done: error = 1.2161359786987305\n",
      "epoch 2800 Done: error = 1.214336633682251\n",
      "epoch 2900 Done: error = 1.2124384641647339\n",
      "epoch 3000 Done: error = 1.2104843854904175\n",
      "epoch 3100 Done: error = 1.2085437774658203\n",
      "epoch 3200 Done: error = 1.2065976858139038\n",
      "epoch 3300 Done: error = 1.2046841382980347\n",
      "epoch 3400 Done: error = 1.2027122974395752\n",
      "epoch 3500 Done: error = 1.2006503343582153\n",
      "epoch 3600 Done: error = 1.1985300779342651\n",
      "epoch 3700 Done: error = 1.1963940858840942\n",
      "epoch 3800 Done: error = 1.1942448616027832\n",
      "epoch 3900 Done: error = 1.1920427083969116\n",
      "epoch 4000 Done: error = 1.1898218393325806\n",
      "epoch 4100 Done: error = 1.1876381635665894\n",
      "epoch 4200 Done: error = 1.1853959560394287\n",
      "epoch 4300 Done: error = 1.1830451488494873\n",
      "epoch 4400 Done: error = 1.180931806564331\n",
      "epoch 4500 Done: error = 1.1789242029190063\n",
      "epoch 4600 Done: error = 1.176914930343628\n",
      "epoch 4700 Done: error = 1.175061821937561\n",
      "epoch 4800 Done: error = 1.1734120845794678\n",
      "epoch 4900 Done: error = 1.1718860864639282\n"
     ]
    },
    {
     "data": {
      "image/png": "[encoded data removed]",
      "text/plain": [
       "<Figure size 432x288 with 1 Axes>"
      ]
     },
     "metadata": {
      "needs_background": "light"
     },
     "output_type": "display_data"
    },
    {
     "name": "stdout",
     "output_type": "stream",
     "text": [
      "Test Error :1.1696197986602783\n",
      "\n",
      "Classification Report: \n",
      "              precision    recall  f1-score   support\n",
      "\n",
      "           0       0.87      0.77      0.82       999\n",
      "           1       0.74      0.91      0.82       963\n",
      "           2       0.92      0.84      0.88       973\n",
      "           3       0.00      0.00      0.00         4\n",
      "           4       0.00      0.00      0.00         7\n",
      "           5       0.00      0.00      0.00         5\n",
      "\n",
      "    accuracy                           0.83      2951\n",
      "   macro avg       0.42      0.42      0.42      2951\n",
      "weighted avg       0.84      0.83      0.83      2951\n",
      "\n"
     ]
    },
    {
     "data": {
      "image/png": "[encoded data removed]",
      "text/plain": [
       "<Figure size 432x288 with 1 Axes>"
      ]
     },
     "metadata": {
      "needs_background": "light"
     },
     "output_type": "display_data"
    },
    {
     "name": "stdout",
     "output_type": "stream",
     "text": [
      "Wall time: 14.9 s\n"
     ]
    }
   ],
   "source": [
    "%%time\n",
    "model.train()\n",
    "errs = []\n",
    "epoch = 5000\n",
    "\n",
    "for epoch in range(epoch):    \n",
    "    optimizer.zero_grad() \n",
    "    y_pred = model(X_train_tensor.float())\n",
    "    loss = loss_function(y_pred.squeeze(), y_train_tensor.long())\n",
    "    errs.append(loss.item())\n",
    "    if epoch%100==0:\n",
    "        print('epoch {} Done: error = {}'.format(epoch, loss.item()))\n",
    "    loss.backward()\n",
    "    optimizer.step()\n",
    "\n",
    "plt.plot(errs)\n",
    "plt.show()  \n",
    "model.eval()\n",
    "y_pred = model(X_test_tensor.float())\n",
    "l = loss_function(y_pred.squeeze(), y_test_tensor.long())\n",
    "print(f\"Test Error :{l:,}\" )\n",
    "r = []\n",
    "for i in y_pred.cpu().detach().numpy():\n",
    "    r.append(i.argmax())\n",
    "\n",
    "make_report(r, y_test)"
   ]
  },
  {
   "cell_type": "code",
   "execution_count": null,
   "metadata": {},
   "outputs": [],
   "source": []
  }
 ],
 "metadata": {
  "kernelspec": {
   "display_name": "Python 3",
   "language": "python",
   "name": "python3"
  },
  "language_info": {
   "codemirror_mode": {
    "name": "ipython",
    "version": 3
   },
   "file_extension": ".py",
   "mimetype": "text/x-python",
   "name": "python",
   "nbconvert_exporter": "python",
   "pygments_lexer": "ipython3",
   "version": "3.7.9"
  }
 },
 "nbformat": 4,
 "nbformat_minor": 4
}
