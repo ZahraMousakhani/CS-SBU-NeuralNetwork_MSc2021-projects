{
  "nbformat": 4,
  "nbformat_minor": 0,
  "metadata": {
    "accelerator": "GPU",
    "colab": {
      "name": "Code.ipynb",
      "provenance": [],
      "collapsed_sections": [
        "G01TmieQWrMJ",
        "hrnUTW7wfTwn"
      ],
      "authorship_tag": "ABX9TyNPHX+SB+4QJcJKn5cs0+Jq",
      "include_colab_link": true
    },
    "kernelspec": {
      "display_name": "Python 3",
      "name": "python3"
    },
    "language_info": {
      "name": "python"
    }
  },
  "cells": [
    {
      "cell_type": "markdown",
      "metadata": {
        "id": "view-in-github",
        "colab_type": "text"
      },
      "source": [
        "<a href=\"https://colab.research.google.com/github/AminHosseini96/CS-SBU-NeuralNetwork_MSc2021-projects/blob/main/AminHosseini-99422057/project03/Code.ipynb\" target=\"_parent\"><img src=\"https://colab.research.google.com/assets/colab-badge.svg\" alt=\"Open In Colab\"/></a>"
      ]
    },
    {
      "cell_type": "code",
      "metadata": {
        "colab": {
          "base_uri": "https://localhost:8080/"
        },
        "id": "tb5j2PHakFJW",
        "outputId": "6596580e-68e9-45c4-daa2-b03f71acd73d"
      },
      "source": [
        "from google.colab import drive\n",
        "drive.mount('/content/drive')"
      ],
      "execution_count": 2,
      "outputs": [
        {
          "output_type": "stream",
          "text": [
            "Drive already mounted at /content/drive; to attempt to forcibly remount, call drive.mount(\"/content/drive\", force_remount=True).\n"
          ],
          "name": "stdout"
        }
      ]
    },
    {
      "cell_type": "code",
      "metadata": {
        "id": "2BUPj9BZ7s_A"
      },
      "source": [
        "import numpy as np\n",
        "import shutil\n",
        "import cv2\n",
        "import random\n",
        "from google.colab.patches import cv2_imshow\n",
        "from PIL import Image ,ImageOps\n",
        "import os, sys\n",
        "import torch\n",
        "import torch.nn as nn\n",
        "from torch.utils.data import DataLoader, Dataset, random_split\n",
        "import torchvision\n",
        "import torchvision.transforms as transforms\n",
        "from torchvision import datasets\n",
        "import torch.nn.functional as F\n",
        "from skimage import io\n",
        "from skimage.color import rgb2lab,rgb2gray,lab2rgb\n",
        "from datetime import datetime\n",
        "import matplotlib.pyplot as plt\n",
        "%matplotlib inline"
      ],
      "execution_count": 3,
      "outputs": []
    },
    {
      "cell_type": "markdown",
      "metadata": {
        "id": "hJKLv44-W1AV"
      },
      "source": [
        "# Colorizing Grayscale Images"
      ]
    },
    {
      "cell_type": "markdown",
      "metadata": {
        "id": "G01TmieQWrMJ"
      },
      "source": [
        "## Resizing Images"
      ]
    },
    {
      "cell_type": "code",
      "metadata": {
        "id": "k0DQOKb6q71u"
      },
      "source": [
        "def resize(path):\n",
        "  counter = 1\n",
        "  dirs = os.listdir(path)\n",
        "  os.makedirs(path + 'resized/', exist_ok=True)\n",
        "  for item in dirs:\n",
        "    if os.path.isfile(path+item):\n",
        "      print(counter, item)\n",
        "      im = Image.open(path+item)\n",
        "      filename, extension = os.path.splitext(item)\n",
        "      if extension == '.png':\n",
        "        im = im.convert('RGB')\n",
        "      imResize = im.resize((200,200), Image.ANTIALIAS)\n",
        "      imResize.save(path + 'resized/' + filename + ' (resized).jpg', 'JPEG', quality=90)\n",
        "    counter +=1"
      ],
      "execution_count": null,
      "outputs": []
    },
    {
      "cell_type": "code",
      "metadata": {
        "id": "QuSdkLJGuKJL"
      },
      "source": [
        "path = '/content/drive/My Drive/SBU/NN/03/data1/dataset/dataset_updated/training_set/drawings/'\n",
        "resize(path)"
      ],
      "execution_count": null,
      "outputs": []
    },
    {
      "cell_type": "code",
      "metadata": {
        "id": "ZLNcMGkwsSg9"
      },
      "source": [
        "path = '/content/drive/My Drive/SBU/NN/03/data1/dataset/dataset_updated/training_set/iconography/'\n",
        "resize(path)"
      ],
      "execution_count": null,
      "outputs": []
    },
    {
      "cell_type": "code",
      "metadata": {
        "id": "SHH04mNtypve"
      },
      "source": [
        "path = '/content/drive/My Drive/SBU/NN/03/data1/dataset/dataset_updated/training_set/painting/'\n",
        "resize(path)"
      ],
      "execution_count": null,
      "outputs": []
    },
    {
      "cell_type": "code",
      "metadata": {
        "id": "SVNwUnX71XEs"
      },
      "source": [
        "path = '/content/drive/My Drive/SBU/NN/03/data1/dataset/dataset_updated/training_set/sculpture/'\n",
        "resize(path)"
      ],
      "execution_count": null,
      "outputs": []
    },
    {
      "cell_type": "code",
      "metadata": {
        "id": "4V5lIgkd9UUS"
      },
      "source": [
        "path = '/content/drive/My Drive/SBU/NN/03/data1/dataset/dataset_updated/training_set/engraving/'\n",
        "resize(path)"
      ],
      "execution_count": null,
      "outputs": []
    },
    {
      "cell_type": "code",
      "metadata": {
        "id": "2_tiGDKV_2Qh"
      },
      "source": [
        "path = '/content/drive/My Drive/SBU/NN/03/data1/dataset/dataset_updated/validation_set/drawings/'\n",
        "resize(path)"
      ],
      "execution_count": null,
      "outputs": []
    },
    {
      "cell_type": "code",
      "metadata": {
        "id": "RtTHdWTSAKjx"
      },
      "source": [
        "path = '/content/drive/My Drive/SBU/NN/03/data1/dataset/dataset_updated/validation_set/engraving/'\n",
        "resize(path)"
      ],
      "execution_count": null,
      "outputs": []
    },
    {
      "cell_type": "code",
      "metadata": {
        "id": "Qj2huKllAWjM"
      },
      "source": [
        "path = '/content/drive/My Drive/SBU/NN/03/data1/dataset/dataset_updated/validation_set/iconography/'\n",
        "resize(path)"
      ],
      "execution_count": null,
      "outputs": []
    },
    {
      "cell_type": "code",
      "metadata": {
        "id": "hrIOFxttAr9Y"
      },
      "source": [
        "path = '/content/drive/My Drive/SBU/NN/03/data1/dataset/dataset_updated/validation_set/painting/'\n",
        "resize(path)"
      ],
      "execution_count": null,
      "outputs": []
    },
    {
      "cell_type": "code",
      "metadata": {
        "id": "A1n0otvqBrb5"
      },
      "source": [
        "path = '/content/drive/My Drive/SBU/NN/03/data1/dataset/dataset_updated/validation_set/sculpture/'\n",
        "resize(path)"
      ],
      "execution_count": null,
      "outputs": []
    },
    {
      "cell_type": "code",
      "metadata": {
        "id": "qyV3-DJBCQ9K"
      },
      "source": [
        "path = '/content/drive/My Drive/SBU/NN/03/data1/musemart/dataset_updated/training_set/drawings/'\n",
        "resize(path)"
      ],
      "execution_count": null,
      "outputs": []
    },
    {
      "cell_type": "code",
      "metadata": {
        "id": "77S-r9jcCoKY"
      },
      "source": [
        "path = '/content/drive/My Drive/SBU/NN/03/data1/musemart/dataset_updated/training_set/engraving/'\n",
        "resize(path)"
      ],
      "execution_count": null,
      "outputs": []
    },
    {
      "cell_type": "code",
      "metadata": {
        "id": "lqVr4sfDDI15"
      },
      "source": [
        "path = '/content/drive/My Drive/SBU/NN/03/data1/musemart/dataset_updated/training_set/iconography/'\n",
        "resize(path)"
      ],
      "execution_count": null,
      "outputs": []
    },
    {
      "cell_type": "code",
      "metadata": {
        "id": "gRIsq4wkEP55"
      },
      "source": [
        "path = '/content/drive/My Drive/SBU/NN/03/data1/musemart/dataset_updated/training_set/painting/'\n",
        "resize(path)"
      ],
      "execution_count": null,
      "outputs": []
    },
    {
      "cell_type": "code",
      "metadata": {
        "id": "v6T9Ab8rK_eg"
      },
      "source": [
        "path = '/content/drive/My Drive/SBU/NN/03/data1/musemart/dataset_updated/training_set/sculpture/'\n",
        "resize(path)"
      ],
      "execution_count": null,
      "outputs": []
    },
    {
      "cell_type": "code",
      "metadata": {
        "id": "en_cWP2ZMXRm"
      },
      "source": [
        "path = '/content/drive/My Drive/SBU/NN/03/data1/musemart/dataset_updated/validation_set/drawings/'\n",
        "resize(path)"
      ],
      "execution_count": null,
      "outputs": []
    },
    {
      "cell_type": "code",
      "metadata": {
        "id": "TV2MNzcKMk0v"
      },
      "source": [
        "path = '/content/drive/My Drive/SBU/NN/03/data1/musemart/dataset_updated/validation_set/engraving/'\n",
        "resize(path)"
      ],
      "execution_count": null,
      "outputs": []
    },
    {
      "cell_type": "code",
      "metadata": {
        "id": "5anInNeoMsfy"
      },
      "source": [
        "path = '/content/drive/My Drive/SBU/NN/03/data1/musemart/dataset_updated/validation_set/iconography/'\n",
        "resize(path)"
      ],
      "execution_count": null,
      "outputs": []
    },
    {
      "cell_type": "code",
      "metadata": {
        "id": "lVTr0EqzM3V3"
      },
      "source": [
        "path = '/content/drive/My Drive/SBU/NN/03/data1/musemart/dataset_updated/validation_set/painting/'\n",
        "resize(path)"
      ],
      "execution_count": null,
      "outputs": []
    },
    {
      "cell_type": "code",
      "metadata": {
        "id": "gyzeojIINh0Q"
      },
      "source": [
        "path = '/content/drive/My Drive/SBU/NN/03/data1/musemart/dataset_updated/validation_set/sculpture/'\n",
        "resize(path)"
      ],
      "execution_count": null,
      "outputs": []
    },
    {
      "cell_type": "code",
      "metadata": {
        "id": "AOODLXnf7pQS"
      },
      "source": [
        "os.remove('/content/drive/My Drive/SBU/NN/03/data1/musemart/dataset_updated/validation_set/sculpture/52.jpg')"
      ],
      "execution_count": null,
      "outputs": []
    },
    {
      "cell_type": "code",
      "metadata": {
        "id": "wD5on8Dm8XAe"
      },
      "source": [
        "path = '/content/drive/My Drive/SBU/NN/03/data1/dataset/dataset_updated/training_set/'\n",
        "dest = '/content/drive/My Drive/SBU/NN/03/data1/train/'\n",
        "for dir in os.listdir(path):\n",
        "  for file in os.listdir(path+dir+'/resized/'):\n",
        "    print(file)\n",
        "    shutil.copy(path+dir+'/resized/'+file, dest)\n",
        "\n",
        "path = '/content/drive/My Drive/SBU/NN/03/data1/dataset/dataset_updated/validation_set/'\n",
        "dest = '/content/drive/My Drive/SBU/NN/03/data1/test/'\n",
        "for dir in os.listdir(path):\n",
        "  for file in os.listdir(path+dir+'/resized/'):\n",
        "    print(file)\n",
        "    shutil.copy(path+dir+'/resized/'+file, dest)\n",
        "    \n",
        "path = '/content/drive/My Drive/SBU/NN/03/data1/musemart/dataset_updated/training_set/'\n",
        "dest = '/content/drive/My Drive/SBU/NN/03/data1/train/'\n",
        "for dir in os.listdir(path):\n",
        "  for file in os.listdir(path+dir+'/resized/'):\n",
        "    print(file)\n",
        "    shutil.copy(path+dir+'/resized/'+file, dest)\n",
        "\n",
        "path = '/content/drive/My Drive/SBU/NN/03/data1/musemart/dataset_updated/validation_set/'\n",
        "dest = '/content/drive/My Drive/SBU/NN/03/data1/test/'\n",
        "for dir in os.listdir(path):\n",
        "  for file in os.listdir(path+dir+'/resized/'):\n",
        "    print(file)\n",
        "    shutil.copy(path+dir+'/resized/'+file, dest)"
      ],
      "execution_count": null,
      "outputs": []
    },
    {
      "cell_type": "markdown",
      "metadata": {
        "id": "GZnDF1l9W_5N"
      },
      "source": [
        "## Preparing Dataset"
      ]
    },
    {
      "cell_type": "code",
      "metadata": {
        "id": "zTzrR0m170Mt"
      },
      "source": [
        "class ScanFile(object): \n",
        "    def __init__(self,directory,prefix=None,postfix=None):\n",
        "        self.directory=directory\n",
        "        self.prefix=prefix\n",
        "        self.postfix=postfix\n",
        "        \n",
        "    def scan_files(self):  \n",
        "        files_list=[]  \n",
        "          \n",
        "        for dirpath,dirnames,filenames in os.walk(self.directory): \n",
        "            '''\n",
        "            dirpath is a string, the path to the directory.  \n",
        "            dirnames is a list of the names of the subdirectories in dirpath (excluding '.' and '..').\n",
        "            filenames is a list of the names of the non-directory files in dirpath.\n",
        "            '''\n",
        "            for special_file in filenames:  \n",
        "                if self.postfix:  \n",
        "                    special_file.endswith(self.postfix)  \n",
        "                    files_list.append(os.path.join(dirpath,special_file))  \n",
        "                elif self.prefix:  \n",
        "                    special_file.startswith(self.prefix)\n",
        "                    files_list.append(os.path.join(dirpath,special_file))  \n",
        "                else:  \n",
        "                    files_list.append(os.path.join(dirpath,special_file))  \n",
        "                                \n",
        "        return files_list  \n",
        "    \n",
        "    def scan_subdir(self):\n",
        "        subdir_list=[]\n",
        "        for dirpath,dirnames,files in os.walk(self.directory):\n",
        "            subdir_list.append(dirpath)\n",
        "        return subdir_list"
      ],
      "execution_count": 7,
      "outputs": []
    },
    {
      "cell_type": "code",
      "metadata": {
        "id": "mTDsWOyC-FBl"
      },
      "source": [
        "class scenedataset(Dataset):\n",
        "    def __init__(self,dir_list,flag):\n",
        "        \n",
        "        num=len(dir_list)\n",
        "        \n",
        "        if flag == \"train\":\n",
        "            self.sub_dir_list = dir_list[:1000]\n",
        "            print(\"train number:\",len(self.sub_dir_list))\n",
        "            self.trans=transforms.Compose([transforms.RandomHorizontalFlip(p=0.5)])\n",
        "        if flag == \"validation\":\n",
        "            self.sub_dir_list = dir_list\n",
        "            print(\"validation number:\",len(self.sub_dir_list))\n",
        "            self.trans=transforms.Compose([transforms.RandomHorizontalFlip(p=0)])\n",
        "        \n",
        "    def __getitem__(self,idx):\n",
        "\n",
        "        image_path = self.sub_dir_list[idx]\n",
        "        image_raw = Image.open(image_path)\n",
        "        image_raw = image_raw.convert('RGB')\n",
        "        image_raw = image_raw.resize((32,32), Image.ANTIALIAS)\n",
        "        image_original = self.trans(image_raw)\n",
        "        image_original = np.asarray(image_original)\n",
        "        # image_lab = (rgb2lab(image_original)+128)/255\n",
        "        # image_ab = image_lab[:,:,1:3]\n",
        "        # image_ab = torch.from_numpy(image_ab.transpose((2,0,1))).float()\n",
        "        # image_original = rgb2gray(image_original)\n",
        "        image_gray = rgb2gray(image_original)\n",
        "        #image_original = torch.from_numpy(image_original.transpose((2,0,1))).float()\n",
        "        image_original = torch.from_numpy(image_original).float()\n",
        "        image_original = image_original.permute(2, 1, 0)\n",
        "        image_gray = torch.from_numpy(image_gray).unsqueeze(0)        \n",
        "        # data = image_original\n",
        "        # label = image_ab\n",
        "        label =image_original\n",
        "        data = image_gray\n",
        "        #print(label.max())\n",
        "        \n",
        "        return data,label\n",
        "    \n",
        "    def __len__(self):\n",
        "        return len(self.sub_dir_list)"
      ],
      "execution_count": 8,
      "outputs": []
    },
    {
      "cell_type": "code",
      "metadata": {
        "colab": {
          "base_uri": "https://localhost:8080/"
        },
        "id": "MSvaqWFv_Jva",
        "outputId": "745f8e0b-c5b7-453e-ab83-79ff1b197a56"
      },
      "source": [
        "BATCH_SIZE = 5\n",
        "\n",
        "data_dir = '/content/drive/My Drive/SBU/NN/03/data1/train/tr/'\n",
        "dir_list = ScanFile(data_dir).scan_files()\n",
        "dir_list = sorted(dir_list,key=lambda k:random.random())\n",
        "# print(len(dir_list))\n",
        "\n",
        "training_set = scenedataset(dir_list,flag=\"train\")    \n",
        "training_loader = torch.utils.data.DataLoader(training_set,batch_size=BATCH_SIZE,num_workers=0)\n",
        "\n",
        "data_dir = '/content/drive/My Drive/SBU/NN/03/data1/test/ts/'\n",
        "dir_list = ScanFile(data_dir).scan_files()\n",
        "dir_list = sorted(dir_list,key=lambda k:random.random())\n",
        "# print(len(dir_list))\n",
        "\n",
        "validation_set=scenedataset(dir_list,flag=\"validation\")\n",
        "validation_loader = torch.utils.data.DataLoader(validation_set,batch_size=BATCH_SIZE,num_workers=0)"
      ],
      "execution_count": 9,
      "outputs": [
        {
          "output_type": "stream",
          "text": [
            "train number: 1000\n",
            "validation number: 986\n"
          ],
          "name": "stdout"
        }
      ]
    },
    {
      "cell_type": "code",
      "metadata": {
        "colab": {
          "base_uri": "https://localhost:8080/"
        },
        "id": "cMd4UWNKtfwL",
        "outputId": "b6c9cda1-6bc4-41bf-83d0-11c35dac841e"
      },
      "source": [
        "for data, lable in validation_loader:\n",
        "    print(data.shape, lable.shape)"
      ],
      "execution_count": null,
      "outputs": [
        {
          "output_type": "stream",
          "text": [
            "torch.Size([5, 1, 32, 32]) torch.Size([5, 3, 32, 32])\n",
            "torch.Size([5, 1, 32, 32]) torch.Size([5, 3, 32, 32])\n",
            "torch.Size([5, 1, 32, 32]) torch.Size([5, 3, 32, 32])\n",
            "torch.Size([5, 1, 32, 32]) torch.Size([5, 3, 32, 32])\n",
            "torch.Size([5, 1, 32, 32]) torch.Size([5, 3, 32, 32])\n",
            "torch.Size([5, 1, 32, 32]) torch.Size([5, 3, 32, 32])\n",
            "torch.Size([5, 1, 32, 32]) torch.Size([5, 3, 32, 32])\n",
            "torch.Size([5, 1, 32, 32]) torch.Size([5, 3, 32, 32])\n",
            "torch.Size([5, 1, 32, 32]) torch.Size([5, 3, 32, 32])\n",
            "torch.Size([5, 1, 32, 32]) torch.Size([5, 3, 32, 32])\n",
            "torch.Size([5, 1, 32, 32]) torch.Size([5, 3, 32, 32])\n",
            "torch.Size([5, 1, 32, 32]) torch.Size([5, 3, 32, 32])\n",
            "torch.Size([5, 1, 32, 32]) torch.Size([5, 3, 32, 32])\n",
            "torch.Size([5, 1, 32, 32]) torch.Size([5, 3, 32, 32])\n",
            "torch.Size([5, 1, 32, 32]) torch.Size([5, 3, 32, 32])\n",
            "torch.Size([5, 1, 32, 32]) torch.Size([5, 3, 32, 32])\n",
            "torch.Size([5, 1, 32, 32]) torch.Size([5, 3, 32, 32])\n",
            "torch.Size([5, 1, 32, 32]) torch.Size([5, 3, 32, 32])\n",
            "torch.Size([5, 1, 32, 32]) torch.Size([5, 3, 32, 32])\n",
            "torch.Size([5, 1, 32, 32]) torch.Size([5, 3, 32, 32])\n",
            "torch.Size([5, 1, 32, 32]) torch.Size([5, 3, 32, 32])\n",
            "torch.Size([5, 1, 32, 32]) torch.Size([5, 3, 32, 32])\n",
            "torch.Size([5, 1, 32, 32]) torch.Size([5, 3, 32, 32])\n",
            "torch.Size([5, 1, 32, 32]) torch.Size([5, 3, 32, 32])\n",
            "torch.Size([5, 1, 32, 32]) torch.Size([5, 3, 32, 32])\n",
            "torch.Size([5, 1, 32, 32]) torch.Size([5, 3, 32, 32])\n",
            "torch.Size([5, 1, 32, 32]) torch.Size([5, 3, 32, 32])\n",
            "torch.Size([5, 1, 32, 32]) torch.Size([5, 3, 32, 32])\n",
            "torch.Size([5, 1, 32, 32]) torch.Size([5, 3, 32, 32])\n",
            "torch.Size([5, 1, 32, 32]) torch.Size([5, 3, 32, 32])\n",
            "torch.Size([5, 1, 32, 32]) torch.Size([5, 3, 32, 32])\n",
            "torch.Size([5, 1, 32, 32]) torch.Size([5, 3, 32, 32])\n",
            "torch.Size([5, 1, 32, 32]) torch.Size([5, 3, 32, 32])\n",
            "torch.Size([5, 1, 32, 32]) torch.Size([5, 3, 32, 32])\n",
            "torch.Size([5, 1, 32, 32]) torch.Size([5, 3, 32, 32])\n",
            "torch.Size([5, 1, 32, 32]) torch.Size([5, 3, 32, 32])\n",
            "torch.Size([5, 1, 32, 32]) torch.Size([5, 3, 32, 32])\n",
            "torch.Size([5, 1, 32, 32]) torch.Size([5, 3, 32, 32])\n",
            "torch.Size([5, 1, 32, 32]) torch.Size([5, 3, 32, 32])\n",
            "torch.Size([5, 1, 32, 32]) torch.Size([5, 3, 32, 32])\n",
            "torch.Size([5, 1, 32, 32]) torch.Size([5, 3, 32, 32])\n",
            "torch.Size([5, 1, 32, 32]) torch.Size([5, 3, 32, 32])\n",
            "torch.Size([5, 1, 32, 32]) torch.Size([5, 3, 32, 32])\n",
            "torch.Size([5, 1, 32, 32]) torch.Size([5, 3, 32, 32])\n",
            "torch.Size([5, 1, 32, 32]) torch.Size([5, 3, 32, 32])\n",
            "torch.Size([5, 1, 32, 32]) torch.Size([5, 3, 32, 32])\n",
            "torch.Size([5, 1, 32, 32]) torch.Size([5, 3, 32, 32])\n",
            "torch.Size([5, 1, 32, 32]) torch.Size([5, 3, 32, 32])\n",
            "torch.Size([5, 1, 32, 32]) torch.Size([5, 3, 32, 32])\n",
            "torch.Size([5, 1, 32, 32]) torch.Size([5, 3, 32, 32])\n",
            "torch.Size([5, 1, 32, 32]) torch.Size([5, 3, 32, 32])\n",
            "torch.Size([5, 1, 32, 32]) torch.Size([5, 3, 32, 32])\n",
            "torch.Size([5, 1, 32, 32]) torch.Size([5, 3, 32, 32])\n",
            "torch.Size([5, 1, 32, 32]) torch.Size([5, 3, 32, 32])\n",
            "torch.Size([5, 1, 32, 32]) torch.Size([5, 3, 32, 32])\n",
            "torch.Size([5, 1, 32, 32]) torch.Size([5, 3, 32, 32])\n",
            "torch.Size([5, 1, 32, 32]) torch.Size([5, 3, 32, 32])\n",
            "torch.Size([5, 1, 32, 32]) torch.Size([5, 3, 32, 32])\n",
            "torch.Size([5, 1, 32, 32]) torch.Size([5, 3, 32, 32])\n",
            "torch.Size([5, 1, 32, 32]) torch.Size([5, 3, 32, 32])\n",
            "torch.Size([5, 1, 32, 32]) torch.Size([5, 3, 32, 32])\n",
            "torch.Size([5, 1, 32, 32]) torch.Size([5, 3, 32, 32])\n",
            "torch.Size([5, 1, 32, 32]) torch.Size([5, 3, 32, 32])\n",
            "torch.Size([5, 1, 32, 32]) torch.Size([5, 3, 32, 32])\n",
            "torch.Size([5, 1, 32, 32]) torch.Size([5, 3, 32, 32])\n",
            "torch.Size([5, 1, 32, 32]) torch.Size([5, 3, 32, 32])\n",
            "torch.Size([5, 1, 32, 32]) torch.Size([5, 3, 32, 32])\n",
            "torch.Size([5, 1, 32, 32]) torch.Size([5, 3, 32, 32])\n",
            "torch.Size([5, 1, 32, 32]) torch.Size([5, 3, 32, 32])\n",
            "torch.Size([5, 1, 32, 32]) torch.Size([5, 3, 32, 32])\n",
            "torch.Size([5, 1, 32, 32]) torch.Size([5, 3, 32, 32])\n",
            "torch.Size([5, 1, 32, 32]) torch.Size([5, 3, 32, 32])\n",
            "torch.Size([5, 1, 32, 32]) torch.Size([5, 3, 32, 32])\n",
            "torch.Size([5, 1, 32, 32]) torch.Size([5, 3, 32, 32])\n",
            "torch.Size([5, 1, 32, 32]) torch.Size([5, 3, 32, 32])\n",
            "torch.Size([5, 1, 32, 32]) torch.Size([5, 3, 32, 32])\n",
            "torch.Size([5, 1, 32, 32]) torch.Size([5, 3, 32, 32])\n",
            "torch.Size([5, 1, 32, 32]) torch.Size([5, 3, 32, 32])\n",
            "torch.Size([5, 1, 32, 32]) torch.Size([5, 3, 32, 32])\n",
            "torch.Size([5, 1, 32, 32]) torch.Size([5, 3, 32, 32])\n",
            "torch.Size([5, 1, 32, 32]) torch.Size([5, 3, 32, 32])\n",
            "torch.Size([5, 1, 32, 32]) torch.Size([5, 3, 32, 32])\n",
            "torch.Size([5, 1, 32, 32]) torch.Size([5, 3, 32, 32])\n",
            "torch.Size([5, 1, 32, 32]) torch.Size([5, 3, 32, 32])\n",
            "torch.Size([5, 1, 32, 32]) torch.Size([5, 3, 32, 32])\n",
            "torch.Size([5, 1, 32, 32]) torch.Size([5, 3, 32, 32])\n",
            "torch.Size([5, 1, 32, 32]) torch.Size([5, 3, 32, 32])\n",
            "torch.Size([5, 1, 32, 32]) torch.Size([5, 3, 32, 32])\n",
            "torch.Size([5, 1, 32, 32]) torch.Size([5, 3, 32, 32])\n",
            "torch.Size([5, 1, 32, 32]) torch.Size([5, 3, 32, 32])\n",
            "torch.Size([5, 1, 32, 32]) torch.Size([5, 3, 32, 32])\n",
            "torch.Size([5, 1, 32, 32]) torch.Size([5, 3, 32, 32])\n",
            "torch.Size([5, 1, 32, 32]) torch.Size([5, 3, 32, 32])\n",
            "torch.Size([5, 1, 32, 32]) torch.Size([5, 3, 32, 32])\n",
            "torch.Size([5, 1, 32, 32]) torch.Size([5, 3, 32, 32])\n",
            "torch.Size([5, 1, 32, 32]) torch.Size([5, 3, 32, 32])\n",
            "torch.Size([5, 1, 32, 32]) torch.Size([5, 3, 32, 32])\n",
            "torch.Size([5, 1, 32, 32]) torch.Size([5, 3, 32, 32])\n",
            "torch.Size([5, 1, 32, 32]) torch.Size([5, 3, 32, 32])\n",
            "torch.Size([5, 1, 32, 32]) torch.Size([5, 3, 32, 32])\n",
            "torch.Size([5, 1, 32, 32]) torch.Size([5, 3, 32, 32])\n",
            "torch.Size([5, 1, 32, 32]) torch.Size([5, 3, 32, 32])\n",
            "torch.Size([5, 1, 32, 32]) torch.Size([5, 3, 32, 32])\n",
            "torch.Size([5, 1, 32, 32]) torch.Size([5, 3, 32, 32])\n",
            "torch.Size([5, 1, 32, 32]) torch.Size([5, 3, 32, 32])\n",
            "torch.Size([5, 1, 32, 32]) torch.Size([5, 3, 32, 32])\n",
            "torch.Size([5, 1, 32, 32]) torch.Size([5, 3, 32, 32])\n",
            "torch.Size([5, 1, 32, 32]) torch.Size([5, 3, 32, 32])\n",
            "torch.Size([5, 1, 32, 32]) torch.Size([5, 3, 32, 32])\n",
            "torch.Size([5, 1, 32, 32]) torch.Size([5, 3, 32, 32])\n",
            "torch.Size([5, 1, 32, 32]) torch.Size([5, 3, 32, 32])\n",
            "torch.Size([5, 1, 32, 32]) torch.Size([5, 3, 32, 32])\n",
            "torch.Size([5, 1, 32, 32]) torch.Size([5, 3, 32, 32])\n",
            "torch.Size([5, 1, 32, 32]) torch.Size([5, 3, 32, 32])\n",
            "torch.Size([5, 1, 32, 32]) torch.Size([5, 3, 32, 32])\n",
            "torch.Size([5, 1, 32, 32]) torch.Size([5, 3, 32, 32])\n",
            "torch.Size([5, 1, 32, 32]) torch.Size([5, 3, 32, 32])\n",
            "torch.Size([5, 1, 32, 32]) torch.Size([5, 3, 32, 32])\n",
            "torch.Size([5, 1, 32, 32]) torch.Size([5, 3, 32, 32])\n",
            "torch.Size([5, 1, 32, 32]) torch.Size([5, 3, 32, 32])\n",
            "torch.Size([5, 1, 32, 32]) torch.Size([5, 3, 32, 32])\n",
            "torch.Size([5, 1, 32, 32]) torch.Size([5, 3, 32, 32])\n",
            "torch.Size([5, 1, 32, 32]) torch.Size([5, 3, 32, 32])\n",
            "torch.Size([5, 1, 32, 32]) torch.Size([5, 3, 32, 32])\n",
            "torch.Size([5, 1, 32, 32]) torch.Size([5, 3, 32, 32])\n",
            "torch.Size([5, 1, 32, 32]) torch.Size([5, 3, 32, 32])\n",
            "torch.Size([5, 1, 32, 32]) torch.Size([5, 3, 32, 32])\n",
            "torch.Size([5, 1, 32, 32]) torch.Size([5, 3, 32, 32])\n",
            "torch.Size([5, 1, 32, 32]) torch.Size([5, 3, 32, 32])\n",
            "torch.Size([5, 1, 32, 32]) torch.Size([5, 3, 32, 32])\n",
            "torch.Size([5, 1, 32, 32]) torch.Size([5, 3, 32, 32])\n",
            "torch.Size([5, 1, 32, 32]) torch.Size([5, 3, 32, 32])\n",
            "torch.Size([5, 1, 32, 32]) torch.Size([5, 3, 32, 32])\n",
            "torch.Size([5, 1, 32, 32]) torch.Size([5, 3, 32, 32])\n",
            "torch.Size([5, 1, 32, 32]) torch.Size([5, 3, 32, 32])\n",
            "torch.Size([5, 1, 32, 32]) torch.Size([5, 3, 32, 32])\n",
            "torch.Size([5, 1, 32, 32]) torch.Size([5, 3, 32, 32])\n",
            "torch.Size([5, 1, 32, 32]) torch.Size([5, 3, 32, 32])\n",
            "torch.Size([5, 1, 32, 32]) torch.Size([5, 3, 32, 32])\n",
            "torch.Size([5, 1, 32, 32]) torch.Size([5, 3, 32, 32])\n",
            "torch.Size([5, 1, 32, 32]) torch.Size([5, 3, 32, 32])\n",
            "torch.Size([5, 1, 32, 32]) torch.Size([5, 3, 32, 32])\n",
            "torch.Size([5, 1, 32, 32]) torch.Size([5, 3, 32, 32])\n",
            "torch.Size([5, 1, 32, 32]) torch.Size([5, 3, 32, 32])\n",
            "torch.Size([5, 1, 32, 32]) torch.Size([5, 3, 32, 32])\n",
            "torch.Size([5, 1, 32, 32]) torch.Size([5, 3, 32, 32])\n",
            "torch.Size([5, 1, 32, 32]) torch.Size([5, 3, 32, 32])\n",
            "torch.Size([5, 1, 32, 32]) torch.Size([5, 3, 32, 32])\n",
            "torch.Size([5, 1, 32, 32]) torch.Size([5, 3, 32, 32])\n",
            "torch.Size([5, 1, 32, 32]) torch.Size([5, 3, 32, 32])\n",
            "torch.Size([5, 1, 32, 32]) torch.Size([5, 3, 32, 32])\n",
            "torch.Size([5, 1, 32, 32]) torch.Size([5, 3, 32, 32])\n",
            "torch.Size([5, 1, 32, 32]) torch.Size([5, 3, 32, 32])\n",
            "torch.Size([5, 1, 32, 32]) torch.Size([5, 3, 32, 32])\n",
            "torch.Size([5, 1, 32, 32]) torch.Size([5, 3, 32, 32])\n",
            "torch.Size([5, 1, 32, 32]) torch.Size([5, 3, 32, 32])\n",
            "torch.Size([5, 1, 32, 32]) torch.Size([5, 3, 32, 32])\n",
            "torch.Size([5, 1, 32, 32]) torch.Size([5, 3, 32, 32])\n",
            "torch.Size([5, 1, 32, 32]) torch.Size([5, 3, 32, 32])\n",
            "torch.Size([5, 1, 32, 32]) torch.Size([5, 3, 32, 32])\n",
            "torch.Size([5, 1, 32, 32]) torch.Size([5, 3, 32, 32])\n",
            "torch.Size([5, 1, 32, 32]) torch.Size([5, 3, 32, 32])\n",
            "torch.Size([5, 1, 32, 32]) torch.Size([5, 3, 32, 32])\n",
            "torch.Size([5, 1, 32, 32]) torch.Size([5, 3, 32, 32])\n",
            "torch.Size([5, 1, 32, 32]) torch.Size([5, 3, 32, 32])\n",
            "torch.Size([5, 1, 32, 32]) torch.Size([5, 3, 32, 32])\n",
            "torch.Size([5, 1, 32, 32]) torch.Size([5, 3, 32, 32])\n",
            "torch.Size([5, 1, 32, 32]) torch.Size([5, 3, 32, 32])\n",
            "torch.Size([5, 1, 32, 32]) torch.Size([5, 3, 32, 32])\n",
            "torch.Size([5, 1, 32, 32]) torch.Size([5, 3, 32, 32])\n",
            "torch.Size([5, 1, 32, 32]) torch.Size([5, 3, 32, 32])\n",
            "torch.Size([5, 1, 32, 32]) torch.Size([5, 3, 32, 32])\n",
            "torch.Size([5, 1, 32, 32]) torch.Size([5, 3, 32, 32])\n",
            "torch.Size([5, 1, 32, 32]) torch.Size([5, 3, 32, 32])\n",
            "torch.Size([5, 1, 32, 32]) torch.Size([5, 3, 32, 32])\n",
            "torch.Size([5, 1, 32, 32]) torch.Size([5, 3, 32, 32])\n",
            "torch.Size([5, 1, 32, 32]) torch.Size([5, 3, 32, 32])\n",
            "torch.Size([5, 1, 32, 32]) torch.Size([5, 3, 32, 32])\n",
            "torch.Size([5, 1, 32, 32]) torch.Size([5, 3, 32, 32])\n",
            "torch.Size([5, 1, 32, 32]) torch.Size([5, 3, 32, 32])\n",
            "torch.Size([5, 1, 32, 32]) torch.Size([5, 3, 32, 32])\n",
            "torch.Size([5, 1, 32, 32]) torch.Size([5, 3, 32, 32])\n",
            "torch.Size([5, 1, 32, 32]) torch.Size([5, 3, 32, 32])\n",
            "torch.Size([5, 1, 32, 32]) torch.Size([5, 3, 32, 32])\n",
            "torch.Size([5, 1, 32, 32]) torch.Size([5, 3, 32, 32])\n",
            "torch.Size([5, 1, 32, 32]) torch.Size([5, 3, 32, 32])\n",
            "torch.Size([5, 1, 32, 32]) torch.Size([5, 3, 32, 32])\n",
            "torch.Size([5, 1, 32, 32]) torch.Size([5, 3, 32, 32])\n",
            "torch.Size([5, 1, 32, 32]) torch.Size([5, 3, 32, 32])\n",
            "torch.Size([5, 1, 32, 32]) torch.Size([5, 3, 32, 32])\n",
            "torch.Size([5, 1, 32, 32]) torch.Size([5, 3, 32, 32])\n",
            "torch.Size([5, 1, 32, 32]) torch.Size([5, 3, 32, 32])\n",
            "torch.Size([5, 1, 32, 32]) torch.Size([5, 3, 32, 32])\n",
            "torch.Size([5, 1, 32, 32]) torch.Size([5, 3, 32, 32])\n",
            "torch.Size([5, 1, 32, 32]) torch.Size([5, 3, 32, 32])\n",
            "torch.Size([5, 1, 32, 32]) torch.Size([5, 3, 32, 32])\n",
            "torch.Size([5, 1, 32, 32]) torch.Size([5, 3, 32, 32])\n",
            "torch.Size([1, 1, 32, 32]) torch.Size([1, 3, 32, 32])\n"
          ],
          "name": "stdout"
        }
      ]
    },
    {
      "cell_type": "markdown",
      "metadata": {
        "id": "Mp39CjqDD2hU"
      },
      "source": [
        "## Model Designe & Training"
      ]
    },
    {
      "cell_type": "code",
      "metadata": {
        "id": "Wl-BNPF5_onk"
      },
      "source": [
        "def reconstruct_rgb(grey_scale,ab_img):\n",
        "         \n",
        "         color_image = torch.cat((grey_scale, ab_img), 0).numpy() # combine channels\n",
        "         color_image = color_image.transpose((1, 2, 0))  # rescale for matplotlib\n",
        "         color_image[:, :, 0:1] = color_image[:, :, 0:1] * 100\n",
        "         color_image[:, :, 1:3] = color_image[:, :, 1:3] * 255 - 128   \n",
        "         color_image = lab2rgb(color_image.astype(np.float64))\n",
        "         print(grey_scale.max())\n",
        "         print(grey_scale.min())\n",
        "         grey_scale = grey_scale.squeeze().numpy()\n",
        "         plt.figure(1)\n",
        "         plt.imshow(grey_scale,cmap='gray')\n",
        "         plt.figure(2)\n",
        "         plt.imshow(color_image)"
      ],
      "execution_count": 10,
      "outputs": []
    },
    {
      "cell_type": "code",
      "metadata": {
        "id": "lfxu-KsJXyrk"
      },
      "source": [
        "class ConvNet(nn.Module):\n",
        "\n",
        "    def __init__(self, batch_size):\n",
        "        super(ConvNet, self).__init__()\n",
        "        self.conv1 = nn.Conv2d(1, 16, 3, padding=1)\n",
        "        self.conv2 = nn.Conv2d(16, 32, 3)\n",
        "        self.linear1 = nn.Linear(32*7*7, 512)\n",
        "        self.linear2 = nn.Linear(512, 3072)\n",
        "\n",
        "    def forward(self, x):\n",
        "        # Encoder Phase\n",
        "        p1 = F.max_pool2d(self.conv1(x), (2,2))\n",
        "        p2 = F.max_pool2d(self.conv2(p1), (2,2))\n",
        "        # Decoder Phase\n",
        "        f1 = F.relu(self.linear1(p2.view(5,-1)))\n",
        "        f2 = torch.sigmoid(self.linear2(f1)).view(-1, 3, 32, 32)\n",
        "        return f2"
      ],
      "execution_count": 11,
      "outputs": []
    },
    {
      "cell_type": "code",
      "metadata": {
        "id": "eIIUecGxFojE"
      },
      "source": [
        "model = ConvNet(BATCH_SIZE)"
      ],
      "execution_count": 12,
      "outputs": []
    },
    {
      "cell_type": "code",
      "metadata": {
        "colab": {
          "base_uri": "https://localhost:8080/"
        },
        "id": "c038vaAfF9mD",
        "outputId": "527cab9d-0e4e-4062-b20d-4f83fade7880"
      },
      "source": [
        "device = torch.device(\"cuda:0\" if torch.cuda.is_available() else \"cpu\")\n",
        "print(device)\n",
        "model.to(device)"
      ],
      "execution_count": 13,
      "outputs": [
        {
          "output_type": "stream",
          "text": [
            "cuda:0\n"
          ],
          "name": "stdout"
        },
        {
          "output_type": "execute_result",
          "data": {
            "text/plain": [
              "ConvNet(\n",
              "  (conv1): Conv2d(1, 16, kernel_size=(3, 3), stride=(1, 1), padding=(1, 1))\n",
              "  (conv2): Conv2d(16, 32, kernel_size=(3, 3), stride=(1, 1))\n",
              "  (linear1): Linear(in_features=1568, out_features=512, bias=True)\n",
              "  (linear2): Linear(in_features=512, out_features=3072, bias=True)\n",
              ")"
            ]
          },
          "metadata": {
            "tags": []
          },
          "execution_count": 13
        }
      ]
    },
    {
      "cell_type": "code",
      "metadata": {
        "id": "34S8Rzw_Fd4P"
      },
      "source": [
        "learning_rate = 0.01\n",
        "\n",
        "criterion = torch.nn.MSELoss()\n",
        "optimizer = torch.optim.Adam(model.parameters(), lr=learning_rate)"
      ],
      "execution_count": 14,
      "outputs": []
    },
    {
      "cell_type": "code",
      "metadata": {
        "id": "Ybq7Td7rHW2B"
      },
      "source": [
        "train_loss_result={}\n",
        "epoch_valid_loss_result={}\n",
        "epochs =20\n",
        "\n",
        "for epoch in range(epochs):\n",
        "\n",
        "    epoch_loss=0\n",
        "    epoch_valid_loss=0\n",
        "    running_loss=0.0\n",
        "    print(\"This is epoch\",epoch+1)\n",
        "    batch_num=0\n",
        "\n",
        "    for data in training_loader:\n",
        "        inputs, labels = data\n",
        "        labels = labels.to(device,dtype=torch.float)\n",
        "        optimizer.zero_grad()\n",
        "        \n",
        "        image=inputs.to(device,dtype=torch.float)\n",
        "        outputs=model(image).to(device,dtype=torch.float)\n",
        "        #print(outputs.shape)\n",
        "       # print(labels.shape)\n",
        "        loss=criterion(outputs,labels)\n",
        "        \n",
        "        loss.backward()\n",
        "        optimizer.step()\n",
        "        epoch_loss+=loss.item()\n",
        "      #  step_loss+=loss.item()\n",
        "        batch_num=batch_num+1\n",
        "        \n",
        "        running_loss = 0.0\n",
        "        train_loss_result[epoch]=epoch_loss    \n",
        "        with torch.no_grad():\n",
        "            try:\n",
        "                for i,data in enumerate(validation_loader):\n",
        "                    inputs,label=data\n",
        "                    label = label.to(device,dtype=torch.float)\n",
        "                    image=inputs.to(device,dtype=torch.float)\n",
        "                    outputs=model(image).to(device,dtype=torch.float)\n",
        "                    valid_loss=criterion(outputs,label)\n",
        "                    epoch_valid_loss += valid_loss.item()  \n",
        "            except:\n",
        "                continue\n",
        "    epoch_valid_loss_result[epoch]=epoch_valid_loss  \n",
        "\n",
        "train_epoch_value=list(train_loss_result.keys())\n",
        "validation_epoch_value=list(epoch_valid_loss_result.keys())\n",
        "\n",
        "train_loss_value=list(train_loss_result.values())\n",
        "valid_loss_value=list(epoch_valid_loss_result.values())\n"
      ],
      "execution_count": null,
      "outputs": []
    },
    {
      "cell_type": "code",
      "metadata": {
        "id": "f4R-_WbbI5lk"
      },
      "source": [
        "train_loss_container, test_loss_container = [], []\n",
        "epochs = 15\n",
        "\n",
        "for e in range(epochs):  # loop over the dataset multiple times\n",
        "\n",
        "    train_loss = 0.0\n",
        "    test_loss = 0.0\n",
        "    \n",
        "    for batch, train_data in enumerate(x_train):\n",
        "        \n",
        "        # get the inputs\n",
        "        ip, op = train_data, y_train[batch]\n",
        "        # zero the parameter gradients\n",
        "        optimizer.zero_grad()\n",
        "\n",
        "        model_op = net(ip)\n",
        "        loss = criterion(model_op, op)\n",
        "        train_loss += loss.item()\n",
        "        loss.backward()\n",
        "        optimizer.step()\n",
        "\n",
        "    with torch.no_grad():\n",
        "        for batch_test, test_data in enumerate(x_test, 0):\n",
        "            # get the inputs\n",
        "            ip_test, op_test = test_data, y_test[batch_test]\n",
        "            # forward + backward + optimize\n",
        "            model_op = net(ip_test)\n",
        "            loss_test = criterion(model_op, op_test)\n",
        "            test_loss += loss_test.item()\n",
        "    \n",
        "    train_loss_container.append(train_loss)\n",
        "    test_loss_container.append(test_loss)\n",
        "    print('\\rEPOCH: {} | Train_loss: {} | Test_loss: {}'.format(e, train_loss, test_loss), end='')\n",
        "print('\\nFinished Training')"
      ],
      "execution_count": null,
      "outputs": []
    },
    {
      "cell_type": "code",
      "metadata": {
        "colab": {
          "background_save": true
        },
        "id": "5atlxaZZ571o"
      },
      "source": [
        "plt.figure(1)\n",
        "plt.plot(train_epoch_value,train_loss_value,)\n",
        "plt.show()\n",
        "plt.figure(2)\n",
        "plt.plot(validation_epoch_value,valid_loss_value)\n",
        "plt.show()"
      ],
      "execution_count": null,
      "outputs": []
    },
    {
      "cell_type": "code",
      "metadata": {
        "id": "RhA6d_sJFH8l"
      },
      "source": [
        "pic = Image.open('/content/drive/My Drive/SBU/NN/03/data1/train/tr/0006 (resized).jpg')"
      ],
      "execution_count": 16,
      "outputs": []
    },
    {
      "cell_type": "code",
      "metadata": {
        "id": "4188pAOwFXMf"
      },
      "source": [
        "picg = ImageOps.grayscale(pic)"
      ],
      "execution_count": 17,
      "outputs": []
    },
    {
      "cell_type": "code",
      "metadata": {
        "id": "A7v0PB_CFdny"
      },
      "source": [
        ""
      ],
      "execution_count": null,
      "outputs": []
    },
    {
      "cell_type": "markdown",
      "metadata": {
        "id": "hrnUTW7wfTwn"
      },
      "source": [
        "# Generating Fruit"
      ]
    },
    {
      "cell_type": "code",
      "metadata": {
        "id": "gdAm93uLfS0P"
      },
      "source": [
        "os.chdir('/content/drive/My Drive/SBU/NN/03/data2/')"
      ],
      "execution_count": null,
      "outputs": []
    },
    {
      "cell_type": "code",
      "metadata": {
        "colab": {
          "base_uri": "https://localhost:8080/"
        },
        "id": "A0BfAAi3vycW",
        "outputId": "4be7ab95-e68a-4ee3-e9d2-b01d35fc1279"
      },
      "source": [
        "!unzip 03.zip"
      ],
      "execution_count": null,
      "outputs": [
        {
          "output_type": "stream",
          "text": [
            "Archive:  2fol-fruits.zip\n",
            "replace fruits-360/LICENSE? [y]es, [n]o, [A]ll, [N]one, [r]ename: "
          ],
          "name": "stdout"
        }
      ]
    }
  ]
}